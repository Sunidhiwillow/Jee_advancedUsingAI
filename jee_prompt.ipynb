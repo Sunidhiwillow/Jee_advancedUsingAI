{
 "cells": [
  {
   "cell_type": "markdown",
   "id": "96e6ce35-a802-4d53-b746-6370689b62e3",
   "metadata": {},
   "source": [
    "# "
   ]
  },
  {
   "cell_type": "code",
   "execution_count": 8,
   "id": "89323d17-85b9-4315-815d-c529a56a011d",
   "metadata": {},
   "outputs": [
    {
     "name": "stdout",
     "output_type": "stream",
     "text": [
      "Collecting langchain_google_genai\n",
      "  Downloading langchain_google_genai-1.0.1-py3-none-any.whl.metadata (3.8 kB)\n",
      "Collecting google-generativeai<0.5.0,>=0.4.1 (from langchain_google_genai)\n",
      "  Downloading google_generativeai-0.4.1-py3-none-any.whl.metadata (6.2 kB)\n",
      "Requirement already satisfied: langchain-core<0.2,>=0.1 in c:\\python311\\lib\\site-packages (from langchain_google_genai) (0.1.4)\n",
      "Collecting google-ai-generativelanguage==0.4.0 (from google-generativeai<0.5.0,>=0.4.1->langchain_google_genai)\n",
      "  Downloading google_ai_generativelanguage-0.4.0-py3-none-any.whl.metadata (5.1 kB)\n",
      "Requirement already satisfied: google-auth>=2.15.0 in c:\\python311\\lib\\site-packages (from google-generativeai<0.5.0,>=0.4.1->langchain_google_genai) (2.28.1)\n",
      "Requirement already satisfied: google-api-core in c:\\python311\\lib\\site-packages (from google-generativeai<0.5.0,>=0.4.1->langchain_google_genai) (2.18.0)\n",
      "Requirement already satisfied: protobuf in c:\\python311\\lib\\site-packages (from google-generativeai<0.5.0,>=0.4.1->langchain_google_genai) (4.25.3)\n",
      "Requirement already satisfied: pydantic in c:\\python311\\lib\\site-packages (from google-generativeai<0.5.0,>=0.4.1->langchain_google_genai) (2.5.2)\n",
      "Requirement already satisfied: tqdm in c:\\python311\\lib\\site-packages (from google-generativeai<0.5.0,>=0.4.1->langchain_google_genai) (4.66.1)\n",
      "Requirement already satisfied: typing-extensions in c:\\python311\\lib\\site-packages (from google-generativeai<0.5.0,>=0.4.1->langchain_google_genai) (4.9.0)\n",
      "Requirement already satisfied: proto-plus<2.0.0dev,>=1.22.3 in c:\\python311\\lib\\site-packages (from google-ai-generativelanguage==0.4.0->google-generativeai<0.5.0,>=0.4.1->langchain_google_genai) (1.23.0)\n",
      "Requirement already satisfied: PyYAML>=5.3 in c:\\python311\\lib\\site-packages (from langchain-core<0.2,>=0.1->langchain_google_genai) (6.0.1)\n",
      "Requirement already satisfied: anyio<5,>=3 in c:\\python311\\lib\\site-packages (from langchain-core<0.2,>=0.1->langchain_google_genai) (4.0.0)\n",
      "Requirement already satisfied: jsonpatch<2.0,>=1.33 in c:\\python311\\lib\\site-packages (from langchain-core<0.2,>=0.1->langchain_google_genai) (1.33)\n",
      "Requirement already satisfied: langsmith<0.1.0,>=0.0.63 in c:\\python311\\lib\\site-packages (from langchain-core<0.2,>=0.1->langchain_google_genai) (0.0.75)\n",
      "Requirement already satisfied: packaging<24.0,>=23.2 in c:\\python311\\lib\\site-packages (from langchain-core<0.2,>=0.1->langchain_google_genai) (23.2)\n",
      "Requirement already satisfied: requests<3,>=2 in c:\\python311\\lib\\site-packages (from langchain-core<0.2,>=0.1->langchain_google_genai) (2.31.0)\n",
      "Requirement already satisfied: tenacity<9.0.0,>=8.1.0 in c:\\python311\\lib\\site-packages (from langchain-core<0.2,>=0.1->langchain_google_genai) (8.2.3)\n",
      "Requirement already satisfied: idna>=2.8 in c:\\python311\\lib\\site-packages (from anyio<5,>=3->langchain-core<0.2,>=0.1->langchain_google_genai) (3.4)\n",
      "Requirement already satisfied: sniffio>=1.1 in c:\\python311\\lib\\site-packages (from anyio<5,>=3->langchain-core<0.2,>=0.1->langchain_google_genai) (1.3.0)\n",
      "Requirement already satisfied: googleapis-common-protos<2.0.dev0,>=1.56.2 in c:\\python311\\lib\\site-packages (from google-api-core->google-generativeai<0.5.0,>=0.4.1->langchain_google_genai) (1.62.0)\n",
      "Requirement already satisfied: cachetools<6.0,>=2.0.0 in c:\\python311\\lib\\site-packages (from google-auth>=2.15.0->google-generativeai<0.5.0,>=0.4.1->langchain_google_genai) (5.3.3)\n",
      "Requirement already satisfied: pyasn1-modules>=0.2.1 in c:\\python311\\lib\\site-packages (from google-auth>=2.15.0->google-generativeai<0.5.0,>=0.4.1->langchain_google_genai) (0.3.0)\n",
      "Requirement already satisfied: rsa<5,>=3.1.4 in c:\\python311\\lib\\site-packages (from google-auth>=2.15.0->google-generativeai<0.5.0,>=0.4.1->langchain_google_genai) (4.9)\n",
      "Requirement already satisfied: jsonpointer>=1.9 in c:\\python311\\lib\\site-packages (from jsonpatch<2.0,>=1.33->langchain-core<0.2,>=0.1->langchain_google_genai) (2.4)\n",
      "Requirement already satisfied: annotated-types>=0.4.0 in c:\\python311\\lib\\site-packages (from pydantic->google-generativeai<0.5.0,>=0.4.1->langchain_google_genai) (0.6.0)\n",
      "Requirement already satisfied: pydantic-core==2.14.5 in c:\\python311\\lib\\site-packages (from pydantic->google-generativeai<0.5.0,>=0.4.1->langchain_google_genai) (2.14.5)\n",
      "Requirement already satisfied: charset-normalizer<4,>=2 in c:\\python311\\lib\\site-packages (from requests<3,>=2->langchain-core<0.2,>=0.1->langchain_google_genai) (3.2.0)\n",
      "Requirement already satisfied: urllib3<3,>=1.21.1 in c:\\python311\\lib\\site-packages (from requests<3,>=2->langchain-core<0.2,>=0.1->langchain_google_genai) (1.26.17)\n",
      "Requirement already satisfied: certifi>=2017.4.17 in c:\\python311\\lib\\site-packages (from requests<3,>=2->langchain-core<0.2,>=0.1->langchain_google_genai) (2023.7.22)\n",
      "Requirement already satisfied: colorama in c:\\python311\\lib\\site-packages (from tqdm->google-generativeai<0.5.0,>=0.4.1->langchain_google_genai) (0.4.6)\n",
      "Requirement already satisfied: grpcio<2.0dev,>=1.33.2 in c:\\python311\\lib\\site-packages (from google-api-core[grpc]!=2.0.*,!=2.1.*,!=2.10.*,!=2.2.*,!=2.3.*,!=2.4.*,!=2.5.*,!=2.6.*,!=2.7.*,!=2.8.*,!=2.9.*,<3.0.0dev,>=1.34.0->google-ai-generativelanguage==0.4.0->google-generativeai<0.5.0,>=0.4.1->langchain_google_genai) (1.62.1)\n",
      "Requirement already satisfied: grpcio-status<2.0.dev0,>=1.33.2 in c:\\python311\\lib\\site-packages (from google-api-core[grpc]!=2.0.*,!=2.1.*,!=2.10.*,!=2.2.*,!=2.3.*,!=2.4.*,!=2.5.*,!=2.6.*,!=2.7.*,!=2.8.*,!=2.9.*,<3.0.0dev,>=1.34.0->google-ai-generativelanguage==0.4.0->google-generativeai<0.5.0,>=0.4.1->langchain_google_genai) (1.62.1)\n",
      "Requirement already satisfied: pyasn1<0.6.0,>=0.4.6 in c:\\python311\\lib\\site-packages (from pyasn1-modules>=0.2.1->google-auth>=2.15.0->google-generativeai<0.5.0,>=0.4.1->langchain_google_genai) (0.5.1)\n",
      "Downloading langchain_google_genai-1.0.1-py3-none-any.whl (28 kB)\n",
      "Downloading google_generativeai-0.4.1-py3-none-any.whl (137 kB)\n",
      "   ---------------------------------------- 0.0/137.4 kB ? eta -:--:--\n",
      "   ----------------- ---------------------- 61.4/137.4 kB 1.7 MB/s eta 0:00:01\n",
      "   -------------------------------------- - 133.1/137.4 kB 2.0 MB/s eta 0:00:01\n",
      "   ---------------------------------------- 137.4/137.4 kB 1.2 MB/s eta 0:00:00\n",
      "Downloading google_ai_generativelanguage-0.4.0-py3-none-any.whl (598 kB)\n",
      "   ---------------------------------------- 0.0/598.7 kB ? eta -:--:--\n",
      "   -- ------------------------------------- 30.7/598.7 kB ? eta -:--:--\n",
      "   -------- ------------------------------- 122.9/598.7 kB 1.8 MB/s eta 0:00:01\n",
      "   ------------- -------------------------- 204.8/598.7 kB 1.8 MB/s eta 0:00:01\n",
      "   ------------------ --------------------- 276.5/598.7 kB 1.9 MB/s eta 0:00:01\n",
      "   --------------------- ------------------ 327.7/598.7 kB 1.6 MB/s eta 0:00:01\n",
      "   --------------------------- ------------ 409.6/598.7 kB 1.7 MB/s eta 0:00:01\n",
      "   ------------------------------- -------- 471.0/598.7 kB 1.7 MB/s eta 0:00:01\n",
      "   -------------------------------------- - 573.4/598.7 kB 1.6 MB/s eta 0:00:01\n",
      "   ---------------------------------------- 598.7/598.7 kB 1.5 MB/s eta 0:00:00\n",
      "Installing collected packages: google-ai-generativelanguage, google-generativeai, langchain_google_genai\n",
      "  Attempting uninstall: google-ai-generativelanguage\n",
      "    Found existing installation: google-ai-generativelanguage 0.6.1\n",
      "    Uninstalling google-ai-generativelanguage-0.6.1:\n",
      "      Successfully uninstalled google-ai-generativelanguage-0.6.1\n",
      "  Attempting uninstall: google-generativeai\n",
      "    Found existing installation: google-generativeai 0.5.0\n",
      "    Uninstalling google-generativeai-0.5.0:\n",
      "      Successfully uninstalled google-generativeai-0.5.0\n",
      "Successfully installed google-ai-generativelanguage-0.4.0 google-generativeai-0.4.1 langchain_google_genai-1.0.1\n"
     ]
    }
   ],
   "source": [
    "#from langchain.llms import OpenAI\n",
    "!pip install langchain_google_genai"
   ]
  },
  {
   "cell_type": "code",
   "execution_count": 5,
   "id": "28b620ea-c7a1-46a7-8b74-4f9d8e750bb1",
   "metadata": {},
   "outputs": [
    {
     "name": "stdout",
     "output_type": "stream",
     "text": [
      "Collecting google-generativeai\n",
      "  Downloading google_generativeai-0.5.0-py3-none-any.whl.metadata (3.9 kB)\n",
      "Collecting google-ai-generativelanguage==0.6.1 (from google-generativeai)\n",
      "  Downloading google_ai_generativelanguage-0.6.1-py3-none-any.whl.metadata (5.2 kB)\n",
      "Collecting google-api-core (from google-generativeai)\n",
      "  Downloading google_api_core-2.18.0-py3-none-any.whl.metadata (2.7 kB)\n",
      "Collecting google-api-python-client (from google-generativeai)\n",
      "  Downloading google_api_python_client-2.125.0-py2.py3-none-any.whl.metadata (6.6 kB)\n",
      "Requirement already satisfied: google-auth>=2.15.0 in c:\\python311\\lib\\site-packages (from google-generativeai) (2.28.1)\n",
      "Requirement already satisfied: protobuf in c:\\python311\\lib\\site-packages (from google-generativeai) (4.25.3)\n",
      "Requirement already satisfied: pydantic in c:\\python311\\lib\\site-packages (from google-generativeai) (2.5.2)\n",
      "Requirement already satisfied: tqdm in c:\\python311\\lib\\site-packages (from google-generativeai) (4.66.1)\n",
      "Requirement already satisfied: typing-extensions in c:\\python311\\lib\\site-packages (from google-generativeai) (4.9.0)\n",
      "Collecting proto-plus<2.0.0dev,>=1.22.3 (from google-ai-generativelanguage==0.6.1->google-generativeai)\n",
      "  Downloading proto_plus-1.23.0-py3-none-any.whl.metadata (2.2 kB)\n",
      "Requirement already satisfied: googleapis-common-protos<2.0.dev0,>=1.56.2 in c:\\python311\\lib\\site-packages (from google-api-core->google-generativeai) (1.62.0)\n",
      "Requirement already satisfied: requests<3.0.0.dev0,>=2.18.0 in c:\\python311\\lib\\site-packages (from google-api-core->google-generativeai) (2.31.0)\n",
      "Requirement already satisfied: cachetools<6.0,>=2.0.0 in c:\\python311\\lib\\site-packages (from google-auth>=2.15.0->google-generativeai) (5.3.3)\n",
      "Requirement already satisfied: pyasn1-modules>=0.2.1 in c:\\python311\\lib\\site-packages (from google-auth>=2.15.0->google-generativeai) (0.3.0)\n",
      "Requirement already satisfied: rsa<5,>=3.1.4 in c:\\python311\\lib\\site-packages (from google-auth>=2.15.0->google-generativeai) (4.9)\n",
      "Collecting httplib2<1.dev0,>=0.19.0 (from google-api-python-client->google-generativeai)\n",
      "  Downloading httplib2-0.22.0-py3-none-any.whl.metadata (2.6 kB)\n",
      "Collecting google-auth-httplib2<1.0.0,>=0.2.0 (from google-api-python-client->google-generativeai)\n",
      "  Downloading google_auth_httplib2-0.2.0-py2.py3-none-any.whl.metadata (2.2 kB)\n",
      "Collecting uritemplate<5,>=3.0.1 (from google-api-python-client->google-generativeai)\n",
      "  Downloading uritemplate-4.1.1-py2.py3-none-any.whl.metadata (2.9 kB)\n",
      "Requirement already satisfied: annotated-types>=0.4.0 in c:\\python311\\lib\\site-packages (from pydantic->google-generativeai) (0.6.0)\n",
      "Requirement already satisfied: pydantic-core==2.14.5 in c:\\python311\\lib\\site-packages (from pydantic->google-generativeai) (2.14.5)\n",
      "Requirement already satisfied: colorama in c:\\python311\\lib\\site-packages (from tqdm->google-generativeai) (0.4.6)\n",
      "Requirement already satisfied: grpcio<2.0dev,>=1.33.2 in c:\\python311\\lib\\site-packages (from google-api-core[grpc]!=2.0.*,!=2.1.*,!=2.10.*,!=2.2.*,!=2.3.*,!=2.4.*,!=2.5.*,!=2.6.*,!=2.7.*,!=2.8.*,!=2.9.*,<3.0.0dev,>=1.34.1->google-ai-generativelanguage==0.6.1->google-generativeai) (1.62.0)\n",
      "Collecting grpcio-status<2.0.dev0,>=1.33.2 (from google-api-core[grpc]!=2.0.*,!=2.1.*,!=2.10.*,!=2.2.*,!=2.3.*,!=2.4.*,!=2.5.*,!=2.6.*,!=2.7.*,!=2.8.*,!=2.9.*,<3.0.0dev,>=1.34.1->google-ai-generativelanguage==0.6.1->google-generativeai)\n",
      "  Downloading grpcio_status-1.62.1-py3-none-any.whl.metadata (1.3 kB)\n",
      "Collecting pyparsing!=3.0.0,!=3.0.1,!=3.0.2,!=3.0.3,<4,>=2.4.2 (from httplib2<1.dev0,>=0.19.0->google-api-python-client->google-generativeai)\n",
      "  Downloading pyparsing-3.1.2-py3-none-any.whl.metadata (5.1 kB)\n",
      "Requirement already satisfied: pyasn1<0.6.0,>=0.4.6 in c:\\python311\\lib\\site-packages (from pyasn1-modules>=0.2.1->google-auth>=2.15.0->google-generativeai) (0.5.1)\n",
      "Requirement already satisfied: charset-normalizer<4,>=2 in c:\\python311\\lib\\site-packages (from requests<3.0.0.dev0,>=2.18.0->google-api-core->google-generativeai) (3.2.0)\n",
      "Requirement already satisfied: idna<4,>=2.5 in c:\\python311\\lib\\site-packages (from requests<3.0.0.dev0,>=2.18.0->google-api-core->google-generativeai) (3.4)\n",
      "Requirement already satisfied: urllib3<3,>=1.21.1 in c:\\python311\\lib\\site-packages (from requests<3.0.0.dev0,>=2.18.0->google-api-core->google-generativeai) (1.26.17)\n",
      "Requirement already satisfied: certifi>=2017.4.17 in c:\\python311\\lib\\site-packages (from requests<3.0.0.dev0,>=2.18.0->google-api-core->google-generativeai) (2023.7.22)\n",
      "Collecting grpcio<2.0dev,>=1.33.2 (from google-api-core[grpc]!=2.0.*,!=2.1.*,!=2.10.*,!=2.2.*,!=2.3.*,!=2.4.*,!=2.5.*,!=2.6.*,!=2.7.*,!=2.8.*,!=2.9.*,<3.0.0dev,>=1.34.1->google-ai-generativelanguage==0.6.1->google-generativeai)\n",
      "  Downloading grpcio-1.62.1-cp311-cp311-win_amd64.whl.metadata (4.2 kB)\n",
      "Downloading google_generativeai-0.5.0-py3-none-any.whl (142 kB)\n",
      "   ---------------------------------------- 0.0/142.1 kB ? eta -:--:--\n",
      "   -- ------------------------------------- 10.2/142.1 kB ? eta -:--:--\n",
      "   -------- ------------------------------ 30.7/142.1 kB 445.2 kB/s eta 0:00:01\n",
      "   ---------------------- ---------------- 81.9/142.1 kB 657.6 kB/s eta 0:00:01\n",
      "   ------------------------------ ------- 112.6/142.1 kB 731.4 kB/s eta 0:00:01\n",
      "   -------------------------------------- 142.1/142.1 kB 649.5 kB/s eta 0:00:00\n",
      "Downloading google_ai_generativelanguage-0.6.1-py3-none-any.whl (663 kB)\n",
      "   ---------------------------------------- 0.0/663.6 kB ? eta -:--:--\n",
      "   ------------------ --------------------- 307.2/663.6 kB 6.3 MB/s eta 0:00:01\n",
      "   ------------------------------ --------- 512.0/663.6 kB 6.4 MB/s eta 0:00:01\n",
      "   ---------------------------------------  655.4/663.6 kB 5.2 MB/s eta 0:00:01\n",
      "   ---------------------------------------- 663.6/663.6 kB 4.2 MB/s eta 0:00:00\n",
      "Downloading google_api_core-2.18.0-py3-none-any.whl (138 kB)\n",
      "   ---------------------------------------- 0.0/138.3 kB ? eta -:--:--\n",
      "   -------------------------------------- - 133.1/138.3 kB ? eta -:--:--\n",
      "   ---------------------------------------- 138.3/138.3 kB 2.7 MB/s eta 0:00:00\n",
      "Downloading google_api_python_client-2.125.0-py2.py3-none-any.whl (12.5 MB)\n",
      "   ---------------------------------------- 0.0/12.5 MB ? eta -:--:--\n",
      "   ---------------------------------------- 0.1/12.5 MB 4.2 MB/s eta 0:00:03\n",
      "   - -------------------------------------- 0.4/12.5 MB 4.7 MB/s eta 0:00:03\n",
      "   - -------------------------------------- 0.6/12.5 MB 4.3 MB/s eta 0:00:03\n",
      "   -- ------------------------------------- 0.7/12.5 MB 4.3 MB/s eta 0:00:03\n",
      "   -- ------------------------------------- 0.8/12.5 MB 3.6 MB/s eta 0:00:04\n",
      "   --- ------------------------------------ 1.0/12.5 MB 3.7 MB/s eta 0:00:04\n",
      "   --- ------------------------------------ 1.2/12.5 MB 3.5 MB/s eta 0:00:04\n",
      "   ---- ----------------------------------- 1.4/12.5 MB 3.7 MB/s eta 0:00:03\n",
      "   ---- ----------------------------------- 1.4/12.5 MB 3.4 MB/s eta 0:00:04\n",
      "   ----- ---------------------------------- 1.6/12.5 MB 3.2 MB/s eta 0:00:04\n",
      "   ----- ---------------------------------- 1.6/12.5 MB 3.1 MB/s eta 0:00:04\n",
      "   ------ --------------------------------- 1.9/12.5 MB 3.3 MB/s eta 0:00:04\n",
      "   ------ --------------------------------- 2.0/12.5 MB 3.2 MB/s eta 0:00:04\n",
      "   ------ --------------------------------- 2.1/12.5 MB 2.9 MB/s eta 0:00:04\n",
      "   ------- -------------------------------- 2.2/12.5 MB 3.0 MB/s eta 0:00:04\n",
      "   ------- -------------------------------- 2.4/12.5 MB 3.1 MB/s eta 0:00:04\n",
      "   -------- ------------------------------- 2.6/12.5 MB 3.1 MB/s eta 0:00:04\n",
      "   -------- ------------------------------- 2.8/12.5 MB 3.1 MB/s eta 0:00:04\n",
      "   --------- ------------------------------ 3.0/12.5 MB 3.1 MB/s eta 0:00:04\n",
      "   ---------- ----------------------------- 3.1/12.5 MB 3.1 MB/s eta 0:00:03\n",
      "   ---------- ----------------------------- 3.4/12.5 MB 3.2 MB/s eta 0:00:03\n",
      "   ----------- ---------------------------- 3.5/12.5 MB 3.2 MB/s eta 0:00:03\n",
      "   ----------- ---------------------------- 3.6/12.5 MB 3.1 MB/s eta 0:00:03\n",
      "   ------------ --------------------------- 3.9/12.5 MB 3.2 MB/s eta 0:00:03\n",
      "   ------------- -------------------------- 4.1/12.5 MB 3.3 MB/s eta 0:00:03\n",
      "   ------------- -------------------------- 4.3/12.5 MB 3.3 MB/s eta 0:00:03\n",
      "   -------------- ------------------------- 4.5/12.5 MB 3.3 MB/s eta 0:00:03\n",
      "   --------------- ------------------------ 4.7/12.5 MB 3.3 MB/s eta 0:00:03\n",
      "   --------------- ------------------------ 4.9/12.5 MB 3.3 MB/s eta 0:00:03\n",
      "   ---------------- ----------------------- 5.1/12.5 MB 3.4 MB/s eta 0:00:03\n",
      "   ---------------- ----------------------- 5.2/12.5 MB 3.3 MB/s eta 0:00:03\n",
      "   ----------------- ---------------------- 5.4/12.5 MB 3.4 MB/s eta 0:00:03\n",
      "   ----------------- ---------------------- 5.6/12.5 MB 3.3 MB/s eta 0:00:03\n",
      "   ------------------ --------------------- 5.7/12.5 MB 3.4 MB/s eta 0:00:02\n",
      "   ------------------ --------------------- 5.9/12.5 MB 3.4 MB/s eta 0:00:02\n",
      "   ------------------- -------------------- 6.1/12.5 MB 3.4 MB/s eta 0:00:02\n",
      "   ------------------- -------------------- 6.2/12.5 MB 3.4 MB/s eta 0:00:02\n",
      "   -------------------- ------------------- 6.5/12.5 MB 3.4 MB/s eta 0:00:02\n",
      "   --------------------- ------------------ 6.6/12.5 MB 3.4 MB/s eta 0:00:02\n",
      "   --------------------- ------------------ 6.8/12.5 MB 3.4 MB/s eta 0:00:02\n",
      "   ---------------------- ----------------- 7.0/12.5 MB 3.4 MB/s eta 0:00:02\n",
      "   ---------------------- ----------------- 7.2/12.5 MB 3.4 MB/s eta 0:00:02\n",
      "   ----------------------- ---------------- 7.3/12.5 MB 3.5 MB/s eta 0:00:02\n",
      "   ------------------------ --------------- 7.5/12.5 MB 3.5 MB/s eta 0:00:02\n",
      "   ------------------------ --------------- 7.7/12.5 MB 3.5 MB/s eta 0:00:02\n",
      "   ------------------------- -------------- 7.8/12.5 MB 3.5 MB/s eta 0:00:02\n",
      "   ------------------------- -------------- 8.0/12.5 MB 3.4 MB/s eta 0:00:02\n",
      "   -------------------------- ------------- 8.3/12.5 MB 3.5 MB/s eta 0:00:02\n",
      "   -------------------------- ------------- 8.4/12.5 MB 3.5 MB/s eta 0:00:02\n",
      "   --------------------------- ------------ 8.6/12.5 MB 3.5 MB/s eta 0:00:02\n",
      "   ---------------------------- ----------- 8.8/12.5 MB 3.5 MB/s eta 0:00:02\n",
      "   ---------------------------- ----------- 9.0/12.5 MB 3.5 MB/s eta 0:00:01\n",
      "   ----------------------------- ---------- 9.2/12.5 MB 3.5 MB/s eta 0:00:01\n",
      "   ------------------------------ --------- 9.4/12.5 MB 3.5 MB/s eta 0:00:01\n",
      "   ------------------------------ --------- 9.6/12.5 MB 3.5 MB/s eta 0:00:01\n",
      "   ------------------------------- -------- 9.8/12.5 MB 3.5 MB/s eta 0:00:01\n",
      "   ------------------------------- -------- 9.9/12.5 MB 3.5 MB/s eta 0:00:01\n",
      "   -------------------------------- ------- 10.1/12.5 MB 3.6 MB/s eta 0:00:01\n",
      "   --------------------------------- ------ 10.4/12.5 MB 3.6 MB/s eta 0:00:01\n",
      "   --------------------------------- ------ 10.5/12.5 MB 3.6 MB/s eta 0:00:01\n",
      "   ---------------------------------- ----- 10.7/12.5 MB 3.5 MB/s eta 0:00:01\n",
      "   ---------------------------------- ----- 10.9/12.5 MB 3.5 MB/s eta 0:00:01\n",
      "   ----------------------------------- ---- 11.1/12.5 MB 3.6 MB/s eta 0:00:01\n",
      "   ------------------------------------ --- 11.3/12.5 MB 3.6 MB/s eta 0:00:01\n",
      "   ------------------------------------ --- 11.5/12.5 MB 3.6 MB/s eta 0:00:01\n",
      "   ------------------------------------- -- 11.7/12.5 MB 3.7 MB/s eta 0:00:01\n",
      "   -------------------------------------- - 11.9/12.5 MB 3.7 MB/s eta 0:00:01\n",
      "   -------------------------------------- - 12.1/12.5 MB 3.7 MB/s eta 0:00:01\n",
      "   ---------------------------------------  12.3/12.5 MB 3.8 MB/s eta 0:00:01\n",
      "   ---------------------------------------  12.4/12.5 MB 3.8 MB/s eta 0:00:01\n",
      "   ---------------------------------------  12.5/12.5 MB 3.8 MB/s eta 0:00:01\n",
      "   ---------------------------------------- 12.5/12.5 MB 3.8 MB/s eta 0:00:00\n",
      "Downloading google_auth_httplib2-0.2.0-py2.py3-none-any.whl (9.3 kB)\n",
      "Downloading httplib2-0.22.0-py3-none-any.whl (96 kB)\n",
      "   ---------------------------------------- 0.0/96.9 kB ? eta -:--:--\n",
      "   ---------------------------------------- 96.9/96.9 kB 2.8 MB/s eta 0:00:00\n",
      "Downloading proto_plus-1.23.0-py3-none-any.whl (48 kB)\n",
      "   ---------------------------------------- 0.0/48.8 kB ? eta -:--:--\n",
      "   ---------------------------------------- 48.8/48.8 kB 1.2 MB/s eta 0:00:00\n",
      "Downloading uritemplate-4.1.1-py2.py3-none-any.whl (10 kB)\n",
      "Downloading grpcio_status-1.62.1-py3-none-any.whl (14 kB)\n",
      "Downloading grpcio-1.62.1-cp311-cp311-win_amd64.whl (3.8 MB)\n",
      "   ---------------------------------------- 0.0/3.8 MB ? eta -:--:--\n",
      "   -- ------------------------------------- 0.2/3.8 MB 7.6 MB/s eta 0:00:01\n",
      "   ---- ----------------------------------- 0.5/3.8 MB 4.8 MB/s eta 0:00:01\n",
      "   ------ --------------------------------- 0.6/3.8 MB 4.9 MB/s eta 0:00:01\n",
      "   -------- ------------------------------- 0.8/3.8 MB 4.5 MB/s eta 0:00:01\n",
      "   ---------- ----------------------------- 1.0/3.8 MB 4.6 MB/s eta 0:00:01\n",
      "   ----------- ---------------------------- 1.1/3.8 MB 4.2 MB/s eta 0:00:01\n",
      "   -------------- ------------------------- 1.3/3.8 MB 4.0 MB/s eta 0:00:01\n",
      "   ---------------- ----------------------- 1.6/3.8 MB 4.1 MB/s eta 0:00:01\n",
      "   ------------------- -------------------- 1.8/3.8 MB 4.1 MB/s eta 0:00:01\n",
      "   --------------------- ------------------ 2.0/3.8 MB 4.1 MB/s eta 0:00:01\n",
      "   ----------------------- ---------------- 2.2/3.8 MB 4.1 MB/s eta 0:00:01\n",
      "   ------------------------- -------------- 2.4/3.8 MB 4.1 MB/s eta 0:00:01\n",
      "   --------------------------- ------------ 2.6/3.8 MB 4.1 MB/s eta 0:00:01\n",
      "   ----------------------------- ---------- 2.8/3.8 MB 4.0 MB/s eta 0:00:01\n",
      "   ------------------------------- -------- 3.0/3.8 MB 4.1 MB/s eta 0:00:01\n",
      "   --------------------------------- ------ 3.1/3.8 MB 4.0 MB/s eta 0:00:01\n",
      "   ----------------------------------- ---- 3.3/3.8 MB 4.0 MB/s eta 0:00:01\n",
      "   ------------------------------------- -- 3.6/3.8 MB 4.0 MB/s eta 0:00:01\n",
      "   -------------------------------------- - 3.7/3.8 MB 4.0 MB/s eta 0:00:01\n",
      "   ---------------------------------------  3.8/3.8 MB 4.0 MB/s eta 0:00:01\n",
      "   ---------------------------------------- 3.8/3.8 MB 3.8 MB/s eta 0:00:00\n",
      "Downloading pyparsing-3.1.2-py3-none-any.whl (103 kB)\n",
      "   ---------------------------------------- 0.0/103.2 kB ? eta -:--:--\n",
      "   ---------------------------------------- 103.2/103.2 kB 2.0 MB/s eta 0:00:00\n",
      "Installing collected packages: uritemplate, pyparsing, proto-plus, grpcio, httplib2, grpcio-status, google-auth-httplib2, google-api-core, google-api-python-client, google-ai-generativelanguage, google-generativeai\n",
      "  Attempting uninstall: grpcio\n",
      "    Found existing installation: grpcio 1.62.0\n",
      "    Uninstalling grpcio-1.62.0:\n",
      "      Successfully uninstalled grpcio-1.62.0\n",
      "Successfully installed google-ai-generativelanguage-0.6.1 google-api-core-2.18.0 google-api-python-client-2.125.0 google-auth-httplib2-0.2.0 google-generativeai-0.5.0 grpcio-1.62.1 grpcio-status-1.62.1 httplib2-0.22.0 proto-plus-1.23.0 pyparsing-3.1.2 uritemplate-4.1.1\n",
      "Note: you may need to restart the kernel to use updated packages.\n"
     ]
    }
   ],
   "source": [
    "pip install google-generativeai"
   ]
  },
  {
   "cell_type": "code",
   "execution_count": 1,
   "id": "843c0371-f10b-480d-99de-fae46d07a40f",
   "metadata": {},
   "outputs": [],
   "source": [
    "import google.generativeai as genai\n",
    "import os"
   ]
  },
  {
   "cell_type": "code",
   "execution_count": 2,
   "id": "8db86b26-7d5e-420a-9d92-dd8228550d0f",
   "metadata": {},
   "outputs": [],
   "source": [
    "genai.configure(api_key = os.getenv(\"GOOGLE_API_KEY\"))"
   ]
  },
  {
   "cell_type": "code",
   "execution_count": 3,
   "id": "19285089-1269-488b-8a5b-457a373d010b",
   "metadata": {},
   "outputs": [],
   "source": [
    "from langchain_google_genai import ChatGoogleGenerativeAI"
   ]
  },
  {
   "cell_type": "code",
   "execution_count": 4,
   "id": "f1a4aa1e-65e8-46b1-a22a-e3e9526d1c51",
   "metadata": {},
   "outputs": [],
   "source": [
    "from langchain.prompts import PromptTemplate\n",
    "from langchain.chains import LLMChain"
   ]
  },
  {
   "cell_type": "code",
   "execution_count": 5,
   "id": "35cdf089-228d-4338-ac9a-5db4d4502758",
   "metadata": {},
   "outputs": [],
   "source": [
    "from dotenv import load_dotenv"
   ]
  },
  {
   "cell_type": "code",
   "execution_count": 6,
   "id": "59109587-239c-44f1-b1d0-bd2941b7f6bd",
   "metadata": {},
   "outputs": [
    {
     "data": {
      "text/plain": [
       "True"
      ]
     },
     "execution_count": 6,
     "metadata": {},
     "output_type": "execute_result"
    }
   ],
   "source": [
    "load_dotenv('api.env')"
   ]
  },
  {
   "cell_type": "code",
   "execution_count": null,
   "id": "c820fd44-b9df-46ca-a33a-bfdee172f1d6",
   "metadata": {},
   "outputs": [],
   "source": []
  },
  {
   "cell_type": "code",
   "execution_count": null,
   "id": "3fa292fb-b0ce-4c21-a786-7e3889ac211c",
   "metadata": {},
   "outputs": [],
   "source": []
  },
  {
   "cell_type": "code",
   "execution_count": 7,
   "id": "5f13622e-4aec-47a2-95d2-210a69baf42a",
   "metadata": {},
   "outputs": [],
   "source": [
    "def generate_answer():\n",
    "    model = ChatGoogleGenerativeAI(model = \"gemini-pro\", temperature = 0)\n",
    "    #llm = OpenAI(temperature = 0)\n",
    "    answer = model.invoke(\"\"\"One mole of an ideal gas expands adiabatically from an initial state (TA, Vo) to final state (Tf, 5Vo). Another mole of the same gas expands isothermally from a different initial state (TB, V0) to the same final state (Tf, 5Vo). The ratio of the specific heats at constant pressure and constant volume of this ideal gas is gamma. What is the ratio TA/TB. Note : A state is represented as (x,y) where x stands for the temperature of the gas and y stands for its volume\n",
    "    ˆ\n",
    "\n",
    "    \"\"\")\n",
    "    \n",
    "    return answer.content"
   ]
  },
  {
   "cell_type": "code",
   "execution_count": null,
   "id": "1a0c4da9-2db7-4e64-9cf1-e9544565ac92",
   "metadata": {},
   "outputs": [],
   "source": []
  },
  {
   "cell_type": "code",
   "execution_count": 8,
   "id": "2a84699d-1ff4-4dcd-bd9a-e3d80beb4d60",
   "metadata": {},
   "outputs": [
    {
     "name": "stdout",
     "output_type": "stream",
     "text": [
      "For an adiabatic process, we have:\n",
      "\n",
      "PV^(γ) = constant\n",
      "\n",
      "For the first mole of gas, we have:\n",
      "\n",
      "P1V0^(γ) = P2(5V0)^(γ)\n",
      "\n",
      "Since the pressure is the same in both cases, we have:\n",
      "\n",
      "V0^(γ) = 5^(γ)V0^(γ)\n",
      "\n",
      "Therefore, γ = 1.\n",
      "\n",
      "For an isothermal process, we have:\n",
      "\n",
      "PV = constant\n",
      "\n",
      "For the second mole of gas, we have:\n",
      "\n",
      "P1V0 = P2(5V0)\n",
      "\n",
      "Since the pressure is the same in both cases, we have:\n",
      "\n",
      "V0 = 5V0\n",
      "\n",
      "Therefore, TA/TB = (V0/5V0)^γ = (1/5)^1 = 1/5.\n"
     ]
    }
   ],
   "source": [
    "print(generate_answer())"
   ]
  },
  {
   "cell_type": "code",
   "execution_count": 10,
   "id": "1dfaf4b8-f471-48fb-9509-7429689bc8d9",
   "metadata": {},
   "outputs": [],
   "source": [
    "from langchain.prompts import PromptTemplate\n",
    "from langchain.chains import LLMChain"
   ]
  },
  {
   "cell_type": "code",
   "execution_count": 25,
   "id": "995d8add-ff24-4fe2-ba34-54c10917534c",
   "metadata": {},
   "outputs": [],
   "source": [
    "def generate_answer2(jee_problem):\n",
    "    llm = ChatGoogleGenerativeAI(model = \"gemini-pro\", temperature = 0)\n",
    "\n",
    "    prompt_template_name = PromptTemplate(\n",
    "        input_variables = ['jee_problem'],\n",
    "        template =\"\"\"Identify and behave as three different experts that are appropriate to answering this question.\n",
    "All experts will write down the step and their thinking about the step, then share it with the group.\n",
    "Then, all experts will go on to the next step, etc.\n",
    "At each step all experts will score their peers response between 1 and 5, 1 meaning it is highly unlikely, and 5 meaning it is highly likely.\n",
    "If any expert is judged to be wrong at any point then they leave.\n",
    "After all experts have provided their analysis, you then analyze all 3 analyses and provide best guess solution with the final answer only.\n",
    "The question is... provided in the input variable...{jee_problem} \"\"\"\n",
    "\n",
    "    \n",
    "    )\n",
    "    answer_chain = LLMChain(llm = llm, prompt = prompt_template_name)\n",
    "    response = answer_chain({'jee_problem': jee_problem})\n",
    "    return response"
   ]
  },
  {
   "cell_type": "code",
   "execution_count": 21,
   "id": "ba89094a-e5b1-47ed-a45d-58baf64c6231",
   "metadata": {},
   "outputs": [
    {
     "name": "stdout",
     "output_type": "stream",
     "text": [
      "{'jee_problem': 'One mole of an ideal gas expands adiabatically from an initial state (TA, Vo) to final state (Tf, 5Vo). Another mole of the same gas expands isothermally from a different initial state (TB, V0) to the same final state (Tf, 5V0). The ratio of the specific heats at constant pressure and constant volume of this ideal gas is gamma. What is the ratio TA/TB', 'text': '**Expert 1: Thermodynamics Expert**\\n\\n**Step 1:**\\n\\n* **Thinking:** Adiabatic expansion means no heat is transferred in or out of the system. Therefore, the first law of thermodynamics gives:\\n\\n```\\ndQ = dU + dW\\n```\\n\\n* **Step:** Since dQ = 0, we have:\\n\\n```\\ndU = -dW\\n```\\n\\n**Step 2:**\\n\\n* **Thinking:** For an ideal gas, the internal energy is a function of temperature only. Therefore, we can write:\\n\\n```\\ndU = CvdT\\n```\\n\\n* **Step:** Substituting into the previous equation, we get:\\n\\n```\\nCvdT = -dW\\n```\\n\\n**Step 3:**\\n\\n* **Thinking:** For adiabatic expansion, the work done is given by:\\n\\n```\\ndW = -PdV\\n```\\n\\n* **Step:** Substituting into the previous equation, we get:\\n\\n```\\nCvdT = -PdV\\n```\\n\\n**Step 4:**\\n\\n* **Thinking:** For an isothermal expansion, the temperature remains constant. Therefore, we have:\\n\\n```\\ndT = 0\\n```\\n\\n* **Step:** Substituting into the previous equation, we get:\\n\\n```\\nCvdT = 0\\n```\\n\\n**Step 5:**\\n\\n* **Thinking:** Since Cv is not zero, we must have:\\n\\n```\\ndT = 0\\n```\\n\\n* **Step:** Therefore, the isothermal expansion is also adiabatic.\\n\\n**Step 6:**\\n\\n* **Thinking:** Since both expansions are adiabatic, we can use the adiabatic equation:\\n\\n```\\nPV^γ = constant\\n```\\n\\n* **Step:** For the initial and final states, we have:\\n\\n```\\nP1V1^γ = P2V2^γ\\n```\\n\\n**Step 7:**\\n\\n* **Thinking:** Substituting the given values, we get:\\n\\n```\\nTA * V0^γ = Tf * (5V0)^γ\\n```\\n\\n**Step 8:**\\n\\n* **Thinking:** Dividing both sides by V0^γ, we get:\\n\\n```\\nTA = Tf * 5^γ\\n```\\n\\n**Step 9:**\\n\\n* **Thinking:** Substituting the given values, we get:\\n\\n```\\nTA/TB = (Tf * 5^γ) / TB\\n```\\n\\n**Step 10:**\\n\\n* **Thinking:** Since Tf and TB are the same, we get:\\n\\n```\\nTA/TB = 5^γ\\n```\\n\\n**Expert 2: Statistical Mechanics Expert**\\n\\n**Step 1:**\\n\\n* **Thinking:** Adiabatic expansion means no heat is transferred in or out of the system. Therefore, the entropy of the system remains constant.\\n\\n**Step 2:**\\n\\n* **Thinking:** For an ideal gas, the entropy is given by:\\n\\n```\\nS = NklnV + NklnT\\n```\\n\\n* **Step:** Since the entropy remains constant, we have:\\n\\n```\\nS1 = S2\\n```\\n\\n**Step 3:**\\n\\n* **Thinking:** Substituting the given values, we get:\\n\\n```\\nNklnV0 + NklnTA = Nkln(5V0) + NklnTf\\n```\\n\\n**Step 4:**\\n\\n* **Thinking:** Dividing both sides by Nk, we get:\\n\\n```\\nlnV0 + lnTA = ln(5V0) + lnTf\\n```\\n\\n**Step 5:**\\n\\n* **Thinking:** Taking the exponential of both sides, we get:\\n\\n```\\nV0 * TA = 5V0 * Tf\\n```\\n\\n**Step 6:**\\n\\n* **Thinking:** Dividing both sides by V0, we get:\\n\\n```\\nTA = 5Tf\\n```\\n\\n**Step 7:**\\n\\n* **Thinking:** Substituting the given values, we get:\\n\\n```\\nTA/TB = 5Tf / TB\\n```\\n\\n**Step 8:**\\n\\n* **Thinking:** Since Tf and TB are the same, we get:\\n\\n```\\nTA/TB = 5\\n```\\n\\n**Expert 3: Fluid Dynamics Expert**\\n\\n**Step 1:**\\n\\n* **Thinking:** Adiabatic expansion means no heat is transferred in or out of the system. Therefore, the total energy of the system remains constant.\\n\\n**Step 2:**\\n\\n* **Thinking:** For an ideal gas, the total energy is given by:\\n\\n```\\nE = (3/2)NkT\\n```\\n\\n* **Step:** Since the total energy remains constant, we have:\\n\\n```\\nE1 = E2\\n```\\n\\n**Step 3:**\\n\\n* **Thinking:** Substituting the given values, we get:\\n\\n```\\n(3/2)NkTA = (3/2)NkTf\\n```\\n\\n**Step 4:**\\n\\n* **Thinking:** Dividing both sides by (3/2)Nk, we get:\\n\\n```\\nTA = Tf\\n```\\n\\n**Step 5:**\\n\\n* **Thinking:** Substituting the given values, we get:\\n\\n```\\nTA/TB = Tf / TB\\n```\\n\\n**Step 6:**\\n\\n* **Thinking:** Since Tf and TB are the same, we get:\\n\\n```\\nTA/TB = 1\\n```\\n\\n**Peer Scoring:**\\n\\n* Expert 1: 5\\n* Expert 2: 4\\n* Expert 3: 2\\n\\n**Best Guess Solution:**\\n\\nThe correct answer is TA/TB = 5. This is supported by the analysis of Expert 1, who used the adiabatic equation to derive the correct result.'}\n"
     ]
    }
   ],
   "source": [
    "quest = \"One mole of an ideal gas expands adiabatically from an initial state (TA, Vo) to final state (Tf, 5Vo). Another mole of the same gas expands isothermally from a different initial state (TB, V0) to the same final state (Tf, 5V0). The ratio of the specific heats at constant pressure and constant volume of this ideal gas is gamma. What is the ratio TA/TB\"\n",
    "print(generate_answer2(quest))"
   ]
  },
  {
   "cell_type": "code",
   "execution_count": 26,
   "id": "713be60a-643d-43bc-94f0-e841b7d66a33",
   "metadata": {},
   "outputs": [],
   "source": [
    "def generate_answer3(jee_problem):\n",
    "    llm = ChatGoogleGenerativeAI(model = \"gemini-pro\", temperature = 0)\n",
    "\n",
    "    prompt_template_name = PromptTemplate(\n",
    "        input_variables = ['jee_problem'],\n",
    "        template =\"\"\"You are an expert in the field of thermodynamics and in the kinetic theory of gases. You are faced with the following question. Take care to properly understand the question and look at the keywords before trying to solve the question. Also look into possible points given in the question which could be really important for calculating the final answer. Based on the question, try to find what is given and what is to be found. After this, try to look into all the formulae that you know in this topic and find the formulae that might link the given parameters to the final answer. After this,write only the final answer that you found. Here's the question:\n",
    "The question is... provided in the input variable...{jee_problem} \"\"\"\n",
    "\n",
    "    \n",
    "    )\n",
    "    answer_chain = LLMChain(llm = llm, prompt = prompt_template_name)\n",
    "    response = answer_chain({'jee_problem': jee_problem})\n",
    "    return response"
   ]
  },
  {
   "cell_type": "code",
   "execution_count": 24,
   "id": "0bfbd258-08a8-44c2-82ea-ffe28ad06d04",
   "metadata": {},
   "outputs": [
    {
     "name": "stdout",
     "output_type": "stream",
     "text": [
      "{'jee_problem': 'One mole of an ideal gas expands adiabatically from an initial state (TA, Vo) to final state (Tf, 5Vo). Another mole of the same gas expands isothermally from a different initial state (TB, V0) to the same final state (Tf, 5Vo). The ratio of the specific heats at constant pressure and constant volume of this ideal gas is gamma. What is the ratio TA/TB. Note : A state is represented as (x,y) where x stands for the temperature of the gas and y stands for its volume.', 'text': 'TA/TB = (5^(gamma-1))'}\n"
     ]
    }
   ],
   "source": [
    "quest = \"One mole of an ideal gas expands adiabatically from an initial state (TA, Vo) to final state (Tf, 5Vo). Another mole of the same gas expands isothermally from a different initial state (TB, V0) to the same final state (Tf, 5Vo). The ratio of the specific heats at constant pressure and constant volume of this ideal gas is gamma. What is the ratio TA/TB. Note : A state is represented as (x,y) where x stands for the temperature of the gas and y stands for its volume.\"\n",
    "print(generate_answer3(quest))"
   ]
  },
  {
   "cell_type": "code",
   "execution_count": 26,
   "id": "2690f052-2c32-49ab-ba7f-adf7e89b9a7f",
   "metadata": {},
   "outputs": [],
   "source": [
    "###### Got the correct answer with the above prompt, without even giving input image"
   ]
  },
  {
   "cell_type": "code",
   "execution_count": 9,
   "id": "8708980f-ca1c-4c9d-9f12-7f0ae6e451f4",
   "metadata": {},
   "outputs": [],
   "source": [
    "#from langchain.chat_models import ChatOpenAI\n",
    "from langchain.prompts import ChatPromptTemplate\n",
    "from langchain.chains import LLMChain\n",
    "from langchain.chains import SequentialChain\n",
    "from langchain.memory import SimpleMemory"
   ]
  },
  {
   "cell_type": "code",
   "execution_count": null,
   "id": "67604e22-0801-488f-b806-14862a61b0c2",
   "metadata": {},
   "outputs": [],
   "source": [
    "#A container has a base of 50 cm × 5 cm and height 50 cm, as shown in the figure. It has two parallel electrically\n",
    "# conducting walls each of area 50 cm × 50 cm. The remaining walls of the container are thin and non-conducting.\n",
    "# The container is being filled with a liquid of dielectric constant 3 at a uniform rate of 250 cm3 s^(-1)\n",
    "# . What is the value of the capacitance of the container after 10 seconds?\n",
    "# [Given: Permittivity of free space epsilonnot\n",
    "# = 9 × 10−12 C^2 N^-1 m^-2\n",
    "\n",
    "# , the effects of the non-conducting walls on the\n",
    "# capacitance are negligible]"
   ]
  },
  {
   "cell_type": "code",
   "execution_count": 45,
   "id": "2e21f5fe-31bd-424c-94f3-6220e9fd5610",
   "metadata": {},
   "outputs": [],
   "source": [
    "llm = ChatGoogleGenerativeAI(model = \"gemini-pro\", temperature = 0.3)\n",
    "# prompt template 1\n",
    "first_prompt = ChatPromptTemplate.from_template(\n",
    "    \"\"\"You are an expert in the field of physics particularly gravitational field. You are faced with the following question. Take care to properly understand the question and look at the keywords before trying to solve the question. Also look into possible points given in the question which could be really important for calculating the final answer. Based on the question, try to find what is given and what is to be found. After this, try to look into all the formulae that you know in this topic and find the formulae that might link the given parameters to the final answer. After this,write only the final answer that you found. Here's the question:\n",
    "The question is... provided in the input variable...{jee_problem} \"\"\"\n",
    ")\n",
    "\n",
    "# Chain 1\n",
    "chain_one = LLMChain(llm=llm, prompt=first_prompt, output_key=\"output_answer\")"
   ]
  },
  {
   "cell_type": "code",
   "execution_count": 46,
   "id": "1d5ee756-0efe-494f-b3db-a208607dad7b",
   "metadata": {},
   "outputs": [],
   "source": [
    "second_prompt = ChatPromptTemplate.from_template(\n",
    "    \"The answer: {output_answer} that you get for the input queston will be strictly from the one from the given options:{options}, if not then your answer is incorrect, so think again\"\n",
    ")\n",
    "# chain 2\n",
    "chain_two = LLMChain(llm=llm, prompt=second_prompt, output_key=\"final_answer\")"
   ]
  },
  {
   "cell_type": "code",
   "execution_count": 151,
   "id": "b593e2df-cea5-4897-8690-0cc8574ba169",
   "metadata": {},
   "outputs": [],
   "source": [
    "given_options = \"['27 pF', '63 pF', '81 pF', '135 pF']\"\n",
    "overall_chain = SequentialChain(\n",
    "    memory=SimpleMemory(memories={\n",
    "                        \"options\": given_options}),\n",
    "    chains=[chain_one, chain_two],\n",
    "    input_variables=[\"jee_problem\"],\n",
    "    output_variables=[\"output_answer\",\"final_answer\"],\n",
    "    verbose=True\n",
    ")"
   ]
  },
  {
   "cell_type": "code",
   "execution_count": 152,
   "id": "2b64ad9b-aa27-483f-af8f-b0c431a3d214",
   "metadata": {},
   "outputs": [
    {
     "name": "stdout",
     "output_type": "stream",
     "text": [
      "\n",
      "\n",
      "\u001b[1m> Entering new SequentialChain chain...\u001b[0m\n",
      "\n",
      "\u001b[1m> Finished chain.\u001b[0m\n"
     ]
    },
    {
     "data": {
      "text/plain": [
       "{'jee_problem': 'A container has a base of 50 cm × 5 cm and height 50 cm, as shown in the figure. It has two parallel electrically\\nconducting walls each of area 50 cm × 50 cm. The remaining walls of the container are thin and non-conducting.\\nThe container is being filled with a liquid of dielectric constant 3 at a uniform rate of 250 cm3 s^(-1)\\n. What is the value of the capacitance of the container after 10 seconds? Note that the part that is not yet filled with dielectric also works as capacitance so it also has some value of capaciatnce which needs to be added.\\n[Given: Permittivity of free space epsilonnot\\n= 9 × 10−12 C^2 N^-1 m^-2\\n\\n, the effects of the non-conducting walls on the\\ncapacitance are negligible]\\n',\n",
       " 'options': \"['27 pF', '63 pF', '81 pF', '135 pF']\",\n",
       " 'output_answer': 'C = 2.25 x 10^-10 F',\n",
       " 'final_answer': 'C = 2.25 x 10^-10 F\\n\\nThis answer is not from the given options, so it is incorrect.'}"
      ]
     },
     "execution_count": 152,
     "metadata": {},
     "output_type": "execute_result"
    }
   ],
   "source": [
    "jee_problem = \"\"\"A container has a base of 50 cm × 5 cm and height 50 cm, as shown in the figure. It has two parallel electrically\n",
    "conducting walls each of area 50 cm × 50 cm. The remaining walls of the container are thin and non-conducting.\n",
    "The container is being filled with a liquid of dielectric constant 3 at a uniform rate of 250 cm3 s^(-1)\n",
    ". What is the value of the capacitance of the container after 10 seconds? Note that the part that is not yet filled with dielectric also works as capacitance so it also has some value of capaciatnce which needs to be added.\n",
    "[Given: Permittivity of free space epsilonnot\n",
    "= 9 × 10−12 C^2 N^-1 m^-2\n",
    "\n",
    ", the effects of the non-conducting walls on the\n",
    "capacitance are negligible]\n",
    "\"\"\"\n",
    "overall_chain(jee_problem)"
   ]
  },
  {
   "cell_type": "code",
   "execution_count": 54,
   "id": "76d59dba-6713-484f-9a2b-d2f78a76a347",
   "metadata": {},
   "outputs": [
    {
     "name": "stdout",
     "output_type": "stream",
     "text": [
      "\n",
      "\n",
      "\u001b[1m> Entering new SequentialChain chain...\u001b[0m\n",
      "\n",
      "\u001b[1m> Finished chain.\u001b[0m\n"
     ]
    },
    {
     "data": {
      "text/plain": [
       "{'jee_problem': 'Two satellites P and Q are moving in different circular orbits around the Earth (radius R). The heights of P and Q from the Earth surface are hP and hQ, respectively, where hP =R/3 . The accelerations of P and Q due to Earth’s gravity are gPand gQ. respectively. If gP/gQ = 36/25. what is the value of hQ?\\n',\n",
       " 'options': ['3R/5', 'R/6', '6R/5', '5R/5'],\n",
       " 'output_answer': 'Given:\\nhP = R/3\\ngP/gQ = 36/25\\n\\nTo find:\\nhQ\\n\\nFormula:\\ng = GM/r^2\\n\\nwhere,\\ng is the acceleration due to gravity\\nG is the gravitational constant\\nM is the mass of the Earth\\nr is the distance from the center of the Earth\\n\\nUsing the formula, we can write:\\n\\ngP = GM/(R + hP)^2\\ngQ = GM/(R + hQ)^2\\n\\nDividing gP by gQ, we get:\\n\\ngP/gQ = (R + hQ)^2/(R + hP)^2\\n\\nSubstituting the given values, we get:\\n\\n36/25 = (R + hQ)^2/(R + R/3)^2\\n36/25 = (R + hQ)^2/(4R/3)^2\\n36/25 = (R + hQ)^2/(16R^2/9)\\n36/25 = 9(R + hQ)^2/16R^2\\n(R + hQ)^2 = (36/25) * (16R^2/9)\\n(R + hQ)^2 = (576/225) * R^2\\nR + hQ = sqrt((576/225) * R^2)\\nR + hQ = (24/15) * R\\nhQ = (24/15) * R - R\\nhQ = (9/15) * R\\nhQ = 3R/5\\n\\nTherefore, the value of hQ is 3R/5.',\n",
       " 'final_answer': '3R/5'}"
      ]
     },
     "execution_count": 54,
     "metadata": {},
     "output_type": "execute_result"
    }
   ],
   "source": [
    "jee_problem = \"\"\"Two satellites P and Q are moving in different circular orbits around the Earth (radius R). The heights of P and Q from the Earth surface are hP and hQ, respectively, where hP =R/3 . The accelerations of P and Q due to Earth’s gravity are gPand gQ. respectively. If gP/gQ = 36/25. what is the value of hQ?\n",
    "\"\"\"\n",
    "overall_chain(jee_problem)"
   ]
  },
  {
   "cell_type": "code",
   "execution_count": 97,
   "id": "ac0b9b9b-2e12-490d-91c6-8c920b969295",
   "metadata": {},
   "outputs": [
    {
     "name": "stdout",
     "output_type": "stream",
     "text": [
      "Correct answer found: The angular frequency of a torsional pendulum is given by:\n",
      "\n",
      "$$\\omega = \\sqrt{\\frac{k}{I}}$$\n",
      "\n",
      "where:\n",
      "\n",
      "* $\\omega$ is the angular frequency in rad/s\n",
      "* $k$ is the torsional constant in N m rad^(-1)\n",
      "* $I$ is the moment of inertia in kg m^2\n",
      "\n",
      "The moment of inertia of a point-like object of mass $m$ at a distance $r$ from the axis of rotation is given by:\n",
      "\n",
      "$$I = mr^2$$\n",
      "\n",
      "In this case, we have two point-like objects of masses $m_1 = 20$ gm and $m_2 = 30$ gm at distances $r_1 = 5$ cm and $r_2 = 5$ cm from the axis of rotation, respectively. The total moment of inertia is therefore:\n",
      "\n",
      "$$I = m_1r_1^2 + m_2r_2^2 = (20 \\times 10^{-3} \\text{ kg})(5 \\times 10^{-2} \\text{ m})^2 + (30 \\times 10^{-3} \\text{ kg})(5 \\times 10^{-2} \\text{ m})^2 = 2.5 \\times 10^{-5} \\text{ kg m}^2$$\n",
      "\n",
      "Substituting this into the equation for the angular frequency, we get:\n",
      "\n",
      "$$\\omega = \\sqrt{\\frac{k}{I}} = \\sqrt{\\frac{1.2 \\times 10^{-8} \\text{ N m rad}^{-1}}{2.5 \\times 10^{-5} \\text{ kg m}^2}} = 2.19 \\times 10^{-2} \\text{ rad s}^{-1}$$\n",
      "\n",
      "Therefore, the angular frequency of the oscillations is $2.19 \\times 10^{-2}$ rad s^(-1), and the value of $n$ is:\n",
      "\n",
      "$$n = \\frac{\\omega}{10^{-3} \\text{ rad s}^{-1}} = \\frac{2.19 \\times 10^{-2} \\text{ rad s}^{-1}}{10^{-3} \\text{ rad s}^{-1}} = \\boxed{21.9}$$\n",
      "The angular frequency of a torsional pendulum is given by:\n",
      "\n",
      "$$\\omega = \\sqrt{\\frac{k}{I}}$$\n",
      "\n",
      "where:\n",
      "\n",
      "* $\\omega$ is the angular frequency in rad/s\n",
      "* $k$ is the torsional constant in N m rad^(-1)\n",
      "* $I$ is the moment of inertia in kg m^2\n",
      "\n",
      "The moment of inertia of a point-like object of mass $m$ at a distance $r$ from the axis of rotation is given by:\n",
      "\n",
      "$$I = mr^2$$\n",
      "\n",
      "In this case, we have two point-like objects of masses $m_1 = 20$ gm and $m_2 = 30$ gm at distances $r_1 = 5$ cm and $r_2 = 5$ cm from the axis of rotation, respectively. The total moment of inertia is therefore:\n",
      "\n",
      "$$I = m_1r_1^2 + m_2r_2^2 = (20 \\times 10^{-3} \\text{ kg})(5 \\times 10^{-2} \\text{ m})^2 + (30 \\times 10^{-3} \\text{ kg})(5 \\times 10^{-2} \\text{ m})^2 = 2.5 \\times 10^{-5} \\text{ kg m}^2$$\n",
      "\n",
      "Substituting this into the equation for the angular frequency, we get:\n",
      "\n",
      "$$\\omega = \\sqrt{\\frac{k}{I}} = \\sqrt{\\frac{1.2 \\times 10^{-8} \\text{ N m rad}^{-1}}{2.5 \\times 10^{-5} \\text{ kg m}^2}} = 2.19 \\times 10^{-2} \\text{ rad s}^{-1}$$\n",
      "\n",
      "Therefore, the angular frequency of the oscillations is $2.19 \\times 10^{-2}$ rad s^(-1), and the value of $n$ is:\n",
      "\n",
      "$$n = \\frac{\\omega}{10^{-3} \\text{ rad s}^{-1}} = \\frac{2.19 \\times 10^{-2} \\text{ rad s}^{-1}}{10^{-3} \\text{ rad s}^{-1}} = \\boxed{21.9}$$\n"
     ]
    }
   ],
   "source": [
    "llm = ChatGoogleGenerativeAI(model=\"gemini-pro\", temperature=0.3)\n",
    "prompt_template = ChatPromptTemplate.from_template(\n",
    "    \"\"\"As an expert in physics, specializing in rigid body dynamics, Calculate what is asked based on this problem: {jee_problem}\"\"\"\n",
    ")\n",
    "\n",
    "# Define the LLM chain with the calculation prompt\n",
    "calculation_chain = LLMChain(llm=llm, prompt=prompt_template, output_key=\"output_answer\")\n",
    "\n",
    "# Given options as a Python list for easier handling\n",
    "given_options = ['1.2', '5.5', '5', '10']\n",
    "\n",
    "jee_problem = \"\"\"\n",
    " Two point-like objects of masses 20 gm and 30 gm are fixed at the two ends of a rigid massless rod of length 10 cm. This system is suspended vertically from a rigid ceiling using a thin wire attached to its center of mass, The resulting torsional pendulum undergoes small oscillations. The torsional constant of the wire is 1.2 * 10^(-8) N m rad^(-1)\n",
    " The angular frequency of the oscillations is in n* 10^(-3)rad s^(-1)\n",
    ". The value of n is \n",
    "_____.\n",
    "\n",
    "\"\"\"\n",
    "# Manual loop for recalculating until a matching option is found\n",
    "result = None\n",
    "max_attempts = 5\n",
    "attempts = 0\n",
    "\n",
    "while attempts < max_attempts:\n",
    "    response = calculation_chain(jee_problem)\n",
    "    output_answer = response.get(\"output_answer\", \"\")\n",
    "\n",
    "    # Check if the answer is in the given options (handle unit conversions if necessary)\n",
    "    if any(option in output_answer for option in given_options):\n",
    "        result = output_answer\n",
    "        break\n",
    "    else:\n",
    "        # Modify the problem slightly or ask the model to reconsider; this example asks the model to reconsider\n",
    "        jee_problem += \"\\nPlease recalculate with special attention to units and numerical precision.\"\n",
    "    \n",
    "    attempts += 1\n",
    "\n",
    "if result:\n",
    "    print(f\"Correct answer found: {result}\")\n",
    "else:\n",
    "    print(\"Failed to find a correct answer after several attempts.\")\n",
    "print(output_answer)\n",
    "output_soln = output_answer"
   ]
  },
  {
   "cell_type": "code",
   "execution_count": 89,
   "id": "2e206226-44ed-4957-9bd1-191f74c285e4",
   "metadata": {},
   "outputs": [
    {
     "data": {
      "text/plain": [
       "'The angular frequency of a torsional pendulum is given by:\\n\\n$$\\\\omega = \\\\sqrt{\\\\frac{k}{I}}$$\\n\\nwhere:\\n\\n* k is the torsional constant\\n* I is the moment of inertia\\n\\nThe moment of inertia of a point-like object is given by:\\n\\n$$I = mr^2$$\\n\\nwhere:\\n\\n* m is the mass\\n* r is the distance from the axis of rotation\\n\\nThe moment of inertia of the system is the sum of the moments of inertia of the two point-like objects:\\n\\n$$I = m_1r_1^2 + m_2r_2^2$$\\n\\nwhere:\\n\\n* m_1 = 20 gm = 0.02 kg\\n* r_1 = 5 cm = 0.05 m\\n* m_2 = 30 gm = 0.03 kg\\n* r_2 = 5 cm = 0.05 m\\n\\nSubstituting these values into the equation for the moment of inertia, we get:\\n\\n$$I = (0.02 kg)(0.05 m)^2 + (0.03 kg)(0.05 m)^2 = 5 * 10^{-5} kg m^2$$\\n\\nSubstituting the values of k and I into the equation for the angular frequency, we get:\\n\\n$$\\\\omega = \\\\sqrt{\\\\frac{1.2 * 10^{-8} N m rad^{-1}}{5 * 10^{-5} kg m^2}} = 4.24 * 10^{-2} rad s^{-1}$$\\n\\nTherefore, the angular frequency of the oscillations is 4.24 * 10^(-2) rad s^(-1), and the value of n is 4.24.'"
      ]
     },
     "execution_count": 89,
     "metadata": {},
     "output_type": "execute_result"
    }
   ],
   "source": [
    "output_soln"
   ]
  },
  {
   "cell_type": "code",
   "execution_count": 15,
   "id": "cfdb49f6-2efe-4b4a-a14a-2abb774a60d6",
   "metadata": {},
   "outputs": [],
   "source": [
    "output_solution = \"6.75 * 10**(-11) F\""
   ]
  },
  {
   "cell_type": "code",
   "execution_count": 17,
   "id": "4b58f004-8cbf-44b7-8f39-bf205ca751b7",
   "metadata": {},
   "outputs": [],
   "source": [
    "import re"
   ]
  },
  {
   "cell_type": "code",
   "execution_count": 155,
   "id": "f081e732-fd0c-4a74-a50f-3079e0e0e9db",
   "metadata": {},
   "outputs": [
    {
     "name": "stdout",
     "output_type": "stream",
     "text": [
      "1 gf = 10^-9 F\n",
      "\n",
      "Converting the given options to farads:\n",
      "\n",
      "'27 fF' = 27 x 10^-15 F\n",
      "'63 mF' = 63 x 10^-3 F\n",
      "'81 pF' = 81 x 10^-12 F\n",
      "'135 pF' = 135 x 10^-12 F\n",
      "\n",
      "Comparing the numerical part:\n",
      "\n",
      "10^-9 F > 81 x 10^-12 F > 135 x 10^-12 F > 27 x 10^-15 F > 63 x 10^-3 F\n",
      "\n",
      "Therefore, 1 gf is numerically greater than 81 pF, 135 pF, 27 fF, and less than 63 mF.\n"
     ]
    }
   ],
   "source": [
    "def compare_answer_with_options(output_answer, given_options, llm):\n",
    "    # Regular expression to extract numerical and unit parts from the answer\n",
    "    match = re.match(r\"([0-9.]+)\\s*([a-zA-Z]+)\", output_answer)\n",
    "    if match:\n",
    "        numerical_part = float(match.group(1))\n",
    "        unit_part = match.group(2).lower()\n",
    "\n",
    "        # Check if the unit part matches any unit in the given options\n",
    "        if unit_part in given_options:\n",
    "            # If the unit matches, compare the numerical part with the numerical parts of the options\n",
    "            for option in given_options:\n",
    "                match_option = re.match(r\"([0-9.]+)\\s*([a-zA-Z]+)\", option)\n",
    "                if match_option:\n",
    "                    numerical_part_option = float(match_option.group(1))\n",
    "                    if numerical_part == numerical_part_option:\n",
    "                        return \"Correct answer found: \" + output_answer\n",
    "            return \"Numerical part doesn't match any option.\"\n",
    "        else:\n",
    "            # If the unit doesn't match, prompt to convert the answer to the desired units from the given options\n",
    "            conversion_prompt_template = ChatPromptTemplate.from_template(\n",
    "                f\"Convert the units from {unit_part} to one of the units in the given options: {given_options}. Then compare the numerical part. Use units and dimension concept.\"\n",
    "            )\n",
    "            conversion_chain = LLMChain(llm=llm, prompt=conversion_prompt_template, output_key=\"conversion_prompt\")\n",
    "            conversion_response = conversion_chain({\"\": \"\"})\n",
    "            return conversion_response[\"conversion_prompt\"]\n",
    "    else:\n",
    "        return \"Unable to parse the answer.\"\n",
    "\n",
    "# Example usage\n",
    "output_answer = \"66.4 gF\"  # Example output answer\n",
    "given_options = [\"27 fF\", \"63 mF\", \"81 pF\", \"135 pF\"]\n",
    "llm = ChatGoogleGenerativeAI(model=\"gemini-pro\", temperature=0.2)\n",
    "\n",
    "result = compare_answer_with_options(output_answer, given_options, llm)\n",
    "print(result)\n"
   ]
  },
  {
   "cell_type": "code",
   "execution_count": 23,
   "id": "7d74dd32-9f17-4196-ab34-90bf6557048d",
   "metadata": {},
   "outputs": [
    {
     "name": "stdout",
     "output_type": "stream",
     "text": [
      "1 pF = 10^-12 F\n",
      "\n",
      "Converting 27 pF to F:\n",
      "\n",
      "27 pF = 27 * 10^-12 F = 2.7 * 10^-11 F\n",
      "\n",
      "Comparing the numerical part with the given options:\n",
      "\n",
      "2.7 * 10^-11 F is numerically smaller than all the given options.\n",
      "\n",
      "Therefore, 27 pF is the smallest capacitance value among the given options.\n"
     ]
    }
   ],
   "source": [
    "def compare_answer_with_options(output_answer, given_options, llm):\n",
    "    # Regular expression to extract numerical and unit parts from the answer\n",
    "    match = re.match(r\"([0-9.]+)\\s*([a-zA-Z]+)\", output_answer)\n",
    "    if match:\n",
    "        numerical_part = float(match.group(1))\n",
    "        unit_part = match.group(2).lower()\n",
    "\n",
    "        # Check if the unit part matches any unit in the given options\n",
    "        if unit_part in given_options:\n",
    "            # If the unit matches, compare the numerical part with the numerical parts of the options\n",
    "            for option in given_options:\n",
    "                match_option = re.match(r\"([0-9.]+)\\s*([a-zA-Z]+)\", option)\n",
    "                if match_option:\n",
    "                    numerical_part_option = float(match_option.group(1))\n",
    "                    if numerical_part == numerical_part_option:\n",
    "                        return \"Correct answer found: \" + output_answer\n",
    "            return \"Numerical part matches, but unit doesn't match any option.\"\n",
    "        else:\n",
    "            # If the unit doesn't match, prompt to convert the answer to the desired units from the given options\n",
    "            conversion_prompt_template = ChatPromptTemplate.from_template(\n",
    "                f\"Convert the units from {unit_part} to one of the units in the given options: {given_options}. Then compare the numerical part. output_key_answer is the final answer after conversion. Use units and dimension concept. Format the output with the following key, output_key_answer: {output_key_answer}.\"\n",
    "            )\n",
    "            conversion_chain = LLMChain(llm=llm, prompt=conversion_prompt_template, output_key=\"output_key_answer\")\n",
    "            conversion_response = conversion_chain({\"\": \"\"})\n",
    "            return conversion_response[\"conversion_prompt\"]\n",
    "    else:\n",
    "        return \"Unable to parse the answer.\"\n",
    "\n",
    "# Example usage\n",
    "output_answer = \"27 pF\"  # Example output answer\n",
    "given_options = [\"27 pF\", \"63 pF\", \"81 fF\", \"135 mF\"]\n",
    "llm = ChatGoogleGenerativeAI(model=\"gemini-pro\", temperature=0.2)\n",
    "\n",
    "result = compare_answer_with_options(output_answer, given_options, llm)\n",
    "print(result)\n"
   ]
  },
  {
   "cell_type": "code",
   "execution_count": null,
   "id": "e08ba121-c7e6-4cd9-b1ca-9b46d76a342f",
   "metadata": {},
   "outputs": [],
   "source": []
  },
  {
   "cell_type": "code",
   "execution_count": 108,
   "id": "66f0eb3a-4c6b-4395-84e4-eb3db75244b9",
   "metadata": {},
   "outputs": [
    {
     "name": "stdout",
     "output_type": "stream",
     "text": [
      "**1 millifarad (mF) = 1,000,000 picofarad (pF)**\n",
      "\n",
      "**Conversion steps:**\n",
      "\n",
      "1. Multiply the value in millifarads by 1,000,000 to convert to picofarads:\n",
      "\n",
      "```\n",
      "27.0 mF x 1,000,000 = 27,000,000 pF\n",
      "```\n",
      "\n",
      "Therefore, 27.0 millifarad is equal to **27,000,000 picofarad**.\n",
      "**1 millifarad (mF) = 1,000,000 picofarad (pF)**\n",
      "\n",
      "**Conversion steps:**\n",
      "\n",
      "1. Multiply the value in millifarads by 1,000,000 to convert to picofarads:\n",
      "\n",
      "```\n",
      "63.0 mF * 1,000,000 pF/mF = 63,000,000 pF\n",
      "```\n",
      "\n",
      "Therefore, 63.0 millifarad is equal to **63,000,000 picofarad**.\n",
      "**1 picofarad (pF) = 1 x 10^-12 farad (F)**\n",
      "\n",
      "**81.0 picofarad (pF) = 81.0 x 10^-12 farad (F)**\n",
      "\n",
      "**Interconversion steps:**\n",
      "\n",
      "1. Multiply the picofarad value by 1:\n",
      "\n",
      "```\n",
      "81.0 picofarad x 1 = 81.0 picofarad\n",
      "```\n",
      "\n",
      "2. Multiply the picofarad value by the conversion factor (1 x 10^-12):\n",
      "\n",
      "```\n",
      "81.0 picofarad x 1 x 10^-12 = 81.0 x 10^-12 farad\n",
      "```\n",
      "\n",
      "Therefore, 81.0 picofarad is equal to 81.0 x 10^-12 farad.\n",
      "**Step 1: Convert millifarad (mF) to farad (F)**\n",
      "\n",
      "1 mF = 10^-3 F\n",
      "\n",
      "**Step 2: Convert farad (F) to picofarad (pF)**\n",
      "\n",
      "1 F = 10^12 pF\n",
      "\n",
      "**Step 3: Combine steps 1 and 2**\n",
      "\n",
      "1 mF = (10^-3 F) * (10^12 pF/F) = 10^9 pF\n",
      "\n",
      "**Therefore, 135.0 mF is equal to 135.0 * 10^9 pF = 135,000,000,000 pF.**\n",
      "No matching option found.\n"
     ]
    }
   ],
   "source": [
    "#from transformers import pipeline\n",
    "import re\n",
    "\n",
    "def compare_answer_with_options(output_answer, given_options, llm):\n",
    "    # Regular expression to extract numerical and unit parts from the output answer\n",
    "    match_output = re.match(r\"([0-9.]+)\\s*([a-zA-Z]+)\", output_answer)\n",
    "    if match_output:\n",
    "        numerical_part_output = float(match_output.group(1))\n",
    "        unit_part_output = match_output.group(2).lower()\n",
    "\n",
    "        # Loop through each given option\n",
    "        for option in given_options:\n",
    "            # Regular expression to extract numerical and unit parts from the option\n",
    "            match_option = re.match(r\"([0-9.]+)\\s*([a-zA-Z]+)\", option)\n",
    "            if match_option:\n",
    "                numerical_part_option = float(match_option.group(1))\n",
    "                unit_part_option = match_option.group(2).lower()\n",
    "\n",
    "                # Convert unit of option to match unit of output answer\n",
    "                conversion_prompt_template = ChatPromptTemplate.from_template(\n",
    "                f\"Convert {numerical_part_option} {unit_part_option} to {unit_part_output}, and show the interconversion steps\"\n",
    "                )\n",
    "                conversion_chain = LLMChain(llm=llm, prompt=conversion_prompt_template, output_key=\"conversion_prompt\")\n",
    "                conversion_response = conversion_chain({\"\": \"\"})\n",
    "                conv_resp = conversion_response[\"conversion_prompt\"]\n",
    "                print(conv_resp)\n",
    "                # conversion_prompt_template = f\"Convert {numerical_part_option} {unit_part_option} to {unit_part_output}\"\n",
    "                # conversion_chain = llm(conversion_prompt_template)\n",
    "                # conversion_response = conversion_chain.result[0][\"generated_text\"]\n",
    "                \n",
    "                # Extract converted numerical part from the response\n",
    "                match_converted_numerical = re.search(r\"([0-9.]+)\", conv_resp)\n",
    "                if match_converted_numerical:\n",
    "                    converted_numerical_part_option = float(match_converted_numerical.group(1))\n",
    "\n",
    "                    # Check if converted numerical part of option matches numerical part of output answer\n",
    "                    if numerical_part_output == converted_numerical_part_option:\n",
    "                        return f\"Correct answer found: {output_answer} matches {option} from the given options.\"\n",
    "\n",
    "        return \"No matching option found.\"\n",
    "\n",
    "    else:\n",
    "        return \"Unable to parse the output answer.\"\n",
    "\n",
    "\n",
    "# Example usage\n",
    "output_answer = \"81 picofarad\"  # Example output answer\n",
    "given_options = [\"27 milliFarad\", \"63 milliFarad\", \"81 picofarad\", \"135 milliFarad\"]\n",
    "#llm = pipeline(\"text-generation\", model=\"your_llm_model_name\", device=0)\n",
    "llm = ChatGoogleGenerativeAI(model=\"gemini-pro\", temperature=0.2)\n",
    "result = compare_answer_with_options(output_answer, given_options, llm)\n",
    "print(result)\n"
   ]
  },
  {
   "cell_type": "code",
   "execution_count": 115,
   "id": "9ab490c5-472a-414e-8ef1-092ed214630b",
   "metadata": {},
   "outputs": [
    {
     "name": "stdout",
     "output_type": "stream",
     "text": [
      "**1.** Convert pf to f:\n",
      "\n",
      "```\n",
      "27.0 pf = 27.0 * 10^-12 f\n",
      "```\n",
      "\n",
      "**2.** Convert f to pf:\n",
      "\n",
      "```\n",
      "27.0 * 10^-12 f = 27.0 pf\n",
      "```\n",
      "\n",
      "Therefore, 27.0 pf is equal to 27.0 pf.\n",
      "**1 femtofarad (ff) = 10^-15 farad (F)**\n",
      "\n",
      "**1 picofarad (pF) = 10^-12 farad (F)**\n",
      "\n",
      "**Conversion steps:**\n",
      "\n",
      "1. Convert 63.0 ff to farads:\n",
      "\n",
      "```\n",
      "63.0 ff = 63.0 x 10^-15 F\n",
      "```\n",
      "\n",
      "2. Convert the result to picofarads:\n",
      "\n",
      "```\n",
      "63.0 x 10^-15 F = 63.0 x 10^-15 / 10^-12 F\n",
      "```\n",
      "\n",
      "```\n",
      "= 63.0 x 10^-3 pF\n",
      "```\n",
      "\n",
      "**Therefore, 63.0 ff is equal to 63.0 pF.**\n",
      "**1 picofarad (pF) = 10^-12 farad (F)**\n",
      "\n",
      "**80.0 pF = 80.0 * 10^-12 F**\n",
      "\n",
      "**= 8.00 * 10^-11 F**\n",
      "\n",
      "**= 80.0 nF**\n",
      "\n",
      "**Therefore, 80.0 pF is equal to 80.0 nF.**\n",
      "**Step 1: Convert microfarads (µF) to farads (F)**\n",
      "\n",
      "1 µF = 10^-6 F\n",
      "\n",
      "135.0 µF = 135.0 x 10^-6 F = 0.000135 F\n",
      "\n",
      "**Step 2: Convert farads (F) to picofarads (pF)**\n",
      "\n",
      "1 F = 10^12 pF\n",
      "\n",
      "0.000135 F = 0.000135 x 10^12 pF = **135 pF**\n",
      "\n",
      "Therefore, 135.0 µF is equal to 135 pF.\n",
      "No matching option found.\n"
     ]
    }
   ],
   "source": [
    "import re\n",
    "def compare_answer_with_options(output_answer, given_options, llm):\n",
    "    # Regular expression to extract numerical and unit parts from the output answer\n",
    "    match_output = re.match(r\"([0-9.]+)\\s*([a-zA-Z]+)\", output_answer)\n",
    "    if match_output:\n",
    "        numerical_part_output = float(match_output.group(1))\n",
    "        unit_part_output = match_output.group(2).lower()\n",
    "\n",
    "        # Loop through each given option\n",
    "        for option in given_options:\n",
    "            # Regular expression to extract numerical and unit parts from the option\n",
    "            match_option = re.match(r\"([0-9.]+)\\s*([a-zA-Z]+)\", option)\n",
    "            if match_option:\n",
    "                numerical_part_option = float(match_option.group(1))\n",
    "                unit_part_option = match_option.group(2).lower()\n",
    "                # Convert unit of option to match unit of output answer\n",
    "                conversion_prompt_template = ChatPromptTemplate.from_template(\n",
    "                    f\"Convert {numerical_part_option} {unit_part_option} to {unit_part_output}, and show the interconversion steps\"\n",
    "                )\n",
    "                conversion_chain = LLMChain(llm=llm, prompt=conversion_prompt_template, output_key=\"conversion_prompt\")\n",
    "                conversion_response = conversion_chain({\"\": \"\"})\n",
    "                conv_resp = conversion_response[\"conversion_prompt\"]\n",
    "                print(conv_resp)\n",
    "\n",
    "                # Extract converted numerical part from the response\n",
    "                match_converted_numerical = re.search(r\"([0-9.]+)\", conv_resp)\n",
    "                if match_converted_numerical:\n",
    "                     \n",
    "                    converted_numerical_part_option = float(match_converted_numerical.group(1))\n",
    "\n",
    "                    # Check if converted numerical part of option is approximately equal to numerical part of output answer\n",
    "                    if abs(numerical_part_output - converted_numerical_part_option) < 0.5:  # Define your tolerance level here\n",
    "                        return f\"Correct answer found: {output_answer} matches {option} from the given options.\"\n",
    "\n",
    "        return \"No matching option found.\"\n",
    "\n",
    "    else:\n",
    "        return \"Unable to parse the output answer.\"\n",
    "\n",
    "output_answer = \"63 pF\"  # Example output answer\n",
    "given_options = [\"27 pF\", \"63 fF\", \"80 pF\", \"135 mF\"]\n",
    "llm = ChatGoogleGenerativeAI(model=\"gemini-pro\", temperature=0.2)\n",
    "result = compare_answer_with_options(output_answer, given_options, llm)\n",
    "print(result)"
   ]
  },
  {
   "cell_type": "code",
   "execution_count": null,
   "id": "0712ddb7-4f9a-4f23-9a5f-9a887bcc86fd",
   "metadata": {},
   "outputs": [],
   "source": []
  },
  {
   "cell_type": "code",
   "execution_count": 105,
   "id": "500256ff-e9f1-4799-8698-4c69b144f1e7",
   "metadata": {},
   "outputs": [
    {
     "ename": "SyntaxError",
     "evalue": "invalid decimal literal (3950164238.py, line 18)",
     "output_type": "error",
     "traceback": [
      "\u001b[1;36m  Cell \u001b[1;32mIn[105], line 18\u001b[1;36m\u001b[0m\n\u001b[1;33m    1st_conversion_prompt_template = ChatPromptTemplate.from_template(\u001b[0m\n\u001b[1;37m    ^\u001b[0m\n\u001b[1;31mSyntaxError\u001b[0m\u001b[1;31m:\u001b[0m invalid decimal literal\n"
     ]
    }
   ],
   "source": [
    "import re\n",
    "def compare_answer_with_options(output_answer, given_options, llm):\n",
    "    # Regular expression to extract numerical and unit parts from the output answer\n",
    "    match_output = re.match(r\"([0-9.]+)\\s*([a-zA-Z]+)\", output_answer)\n",
    "    if match_output:\n",
    "        numerical_part_output = float(match_output.group(1))\n",
    "        unit_part_output = match_output.group(2).lower()\n",
    "\n",
    "        # Loop through each given option\n",
    "        for option in given_options:\n",
    "            # Regular expression to extract numerical and unit parts from the option\n",
    "            match_option = re.match(r\"([0-9.]+)\\s*([a-zA-Z]+)\", option)\n",
    "            if match_option:\n",
    "                numerical_part_option = float(match_option.group(1))\n",
    "                unit_part_option = match_option.group(2).lower()\n",
    "\n",
    "                # Convert unit of option to match unit of output answer\n",
    "                first_conversion_prompt_template = ChatPromptTemplate.from_template(\n",
    "                    f\"Convert {numerical_part_option} {unit_part_option} to {unit_part_output}, and show the interconversion steps \"\n",
    "                )\n",
    "                conversion_chain_1 = LLMChain(llm=llm, prompt=1st_conversion_prompt_template, output_key=\"output_answer1\")\n",
    "                #conversion_response = conversion_chain({\"\": \"\"})\n",
    "                #conv_resp = conversion_response[\"conversion_prompt\"]\n",
    "                #print(conv_resp)\n",
    "\n",
    "                #2nd_conversation_prompt_template = \n",
    "\n",
    "                if option.lower() in conv_resp.lower():\n",
    "                    return f\"Correct answer found: {output_answer} matches {option} from the given options.\"\n",
    "\n",
    "                # Extract converted numerical part from the response\n",
    "                # match_converted_numerical = re.search(r\"([0-9.]+)\", conv_resp)\n",
    "                # if match_converted_numerical:\n",
    "                #     converted_numerical_part_option = float(match_converted_numerical.group(1))\n",
    "\n",
    "                    # Check if converted numerical part of option is approximately equal to numerical part of output answer\n",
    "                    # if abs(numerical_part_output - converted_numerical_part_option) < 0.5:  # Define your tolerance level here\n",
    "                    #     return f\"Correct answer found: {output_answer} matches {option} from the given options.\"\n",
    "\n",
    "        return \"No matching option found.\"\n",
    "\n",
    "    else:\n",
    "        return \"Unable to parse the output answer.\"\n",
    "\n",
    "\n",
    "output_answer = \"81 picofarad\"  # Example output answer\n",
    "given_options = [\"27 milliFarad\", \"63 milliFarad\", \"81000 femtoFarad\", \"135 milliFarad\"]\n",
    "#llm = pipeline(\"text-generation\", model=\"your_llm_model_name\", device=0)\n",
    "llm = ChatGoogleGenerativeAI(model=\"gemini-pro\", temperature=0.2)\n",
    "result = compare_answer_with_options(output_answer, given_options, llm)\n",
    "print(result)"
   ]
  },
  {
   "cell_type": "code",
   "execution_count": null,
   "id": "7baef832-1136-40f1-b663-6294b6ceca26",
   "metadata": {},
   "outputs": [],
   "source": []
  },
  {
   "cell_type": "code",
   "execution_count": 109,
   "id": "496fee11-99d6-4f00-afdc-fe9dd84d1fd5",
   "metadata": {},
   "outputs": [
    {
     "ename": "SyntaxError",
     "evalue": "unterminated string literal (detected at line 18) (3163429706.py, line 18)",
     "output_type": "error",
     "traceback": [
      "\u001b[1;36m  Cell \u001b[1;32mIn[109], line 18\u001b[1;36m\u001b[0m\n\u001b[1;33m    f\"Convert {numerical_part_option} {unit_part_option} to {unit_part_output}, and show the interconversion step.\u001b[0m\n\u001b[1;37m    ^\u001b[0m\n\u001b[1;31mSyntaxError\u001b[0m\u001b[1;31m:\u001b[0m unterminated string literal (detected at line 18)\n"
     ]
    }
   ],
   "source": [
    "def compare_answer_with_options(output_answer, given_options, llm):\n",
    "    # Regular expression to extract numerical and unit parts from the output answer\n",
    "    match_output = re.match(r\"([0-9.]+)\\s*([a-zA-Z]+)\", output_answer)\n",
    "    if match_output:\n",
    "        unit_part_output = match_output.group(2).lower()\n",
    "\n",
    "        # Loop through each given option\n",
    "        for option in given_options:\n",
    "            # Regular expression to extract numerical and unit parts from the option\n",
    "            match_option = re.match(r\"([0-9.]+)\\s*([a-zA-Z]+)\", option)\n",
    "            if match_option:\n",
    "                numerical_part_option = float(match_option.group(1))\n",
    "                unit_part_option = match_option.group(2).lower()\n",
    "                output_key_answer = \"\"\"So, the final solution is : \"\"\"\n",
    "\n",
    "                # Convert unit of option to match unit of output answer\n",
    "                conversion_prompt_template = ChatPromptTemplate.from_template(\n",
    "                    f\"Convert {numerical_part_option} {unit_part_option} to {unit_part_output}, and show the interconversion step.\n",
    "                    Format the output with the following key, output_key_answer: {output_key_answer}.\"\n",
    "            )}.\n",
    "                \n",
    "                conversion_chain = LLMChain(llm=llm, prompt=conversion_prompt_template, output_key=\"output_key_answer\")\n",
    "                conversion_response = conversion_chain({\"\": \"\"})\n",
    "                conv_resp = conversion_response[\"output_key_answer\"]\n",
    "                print(conv_resp)\n",
    "                # Check if the LLM-generated conversion matches the given option\n",
    "                if option.lower() in conv_resp.lower():\n",
    "                    return f\"Correct answer found: {output_answer} matches {option} from the given options.\"\n",
    "\n",
    "        return \"No matching option found.\"\n",
    "\n",
    "    else:\n",
    "        return \"Unable to parse the output answer.\"\n",
    "\n",
    "\n",
    "output_answer = \"81 picofarad\"  # Example output answer\n",
    "given_options = [\"27 milliFarad\", \"63 milliFarad\", \"81000 femtoFarad\", \"135 milliFarad\"]\n",
    "#llm = pipeline(\"text-generation\", model=\"your_llm_model_name\", device=0)\n",
    "llm = ChatGoogleGenerativeAI(model=\"gemini-pro\", temperature=0.1)\n",
    "result = compare_answer_with_options(output_answer, given_options, llm)\n",
    "print(result)\n"
   ]
  },
  {
   "cell_type": "code",
   "execution_count": null,
   "id": "9fb6153d-690b-49be-94af-ebc699d968f1",
   "metadata": {},
   "outputs": [],
   "source": []
  },
  {
   "cell_type": "code",
   "execution_count": null,
   "id": "8b843d02-76cf-4b1e-82f4-7b205db9f58e",
   "metadata": {},
   "outputs": [],
   "source": [
    "for model in genai.list_models():\n",
    "    print(model.name)"
   ]
  },
  {
   "cell_type": "code",
   "execution_count": 103,
   "id": "d0b42cb1-719e-4d8c-838c-0c2fa8a42b56",
   "metadata": {},
   "outputs": [
    {
     "ename": "AttributeError",
     "evalue": "'ChatGoogleGenerativeAI' object has no attribute 'submit_request'",
     "output_type": "error",
     "traceback": [
      "\u001b[1;31m---------------------------------------------------------------------------\u001b[0m",
      "\u001b[1;31mAttributeError\u001b[0m                            Traceback (most recent call last)",
      "Cell \u001b[1;32mIn[103], line 44\u001b[0m\n\u001b[0;32m     41\u001b[0m given_options \u001b[38;5;241m=\u001b[39m [\u001b[38;5;124m\"\u001b[39m\u001b[38;5;124m27 pF\u001b[39m\u001b[38;5;124m\"\u001b[39m, \u001b[38;5;124m\"\u001b[39m\u001b[38;5;124m63 pF\u001b[39m\u001b[38;5;124m\"\u001b[39m, \u001b[38;5;124m\"\u001b[39m\u001b[38;5;124m81 fF\u001b[39m\u001b[38;5;124m\"\u001b[39m, \u001b[38;5;124m\"\u001b[39m\u001b[38;5;124m135 mF\u001b[39m\u001b[38;5;124m\"\u001b[39m]\n\u001b[0;32m     42\u001b[0m llm \u001b[38;5;241m=\u001b[39m ChatGoogleGenerativeAI(model\u001b[38;5;241m=\u001b[39m\u001b[38;5;124m\"\u001b[39m\u001b[38;5;124mgemini-pro\u001b[39m\u001b[38;5;124m\"\u001b[39m, temperature\u001b[38;5;241m=\u001b[39m\u001b[38;5;241m0.2\u001b[39m)\n\u001b[1;32m---> 44\u001b[0m result \u001b[38;5;241m=\u001b[39m \u001b[43mcompare_answer_with_options\u001b[49m\u001b[43m(\u001b[49m\u001b[43moutput_answer\u001b[49m\u001b[43m,\u001b[49m\u001b[43m \u001b[49m\u001b[43mgiven_options\u001b[49m\u001b[43m,\u001b[49m\u001b[43m \u001b[49m\u001b[43mllm\u001b[49m\u001b[43m)\u001b[49m\n\u001b[0;32m     45\u001b[0m \u001b[38;5;28mprint\u001b[39m(result)\n",
      "Cell \u001b[1;32mIn[103], line 22\u001b[0m, in \u001b[0;36mcompare_answer_with_options\u001b[1;34m(output_answer, given_options, llm)\u001b[0m\n\u001b[0;32m     20\u001b[0m \u001b[38;5;66;03m# Convert unit of option to match unit of output answer\u001b[39;00m\n\u001b[0;32m     21\u001b[0m conversion_prompt \u001b[38;5;241m=\u001b[39m \u001b[38;5;124mf\u001b[39m\u001b[38;5;124m\"\u001b[39m\u001b[38;5;124mConvert \u001b[39m\u001b[38;5;132;01m{\u001b[39;00mnumerical_part_option\u001b[38;5;132;01m}\u001b[39;00m\u001b[38;5;124m \u001b[39m\u001b[38;5;132;01m{\u001b[39;00munit_part_option\u001b[38;5;132;01m}\u001b[39;00m\u001b[38;5;124m to \u001b[39m\u001b[38;5;132;01m{\u001b[39;00munit_part_output\u001b[38;5;132;01m}\u001b[39;00m\u001b[38;5;124m\"\u001b[39m\n\u001b[1;32m---> 22\u001b[0m conversion_response \u001b[38;5;241m=\u001b[39m \u001b[43mllm\u001b[49m\u001b[38;5;241;43m.\u001b[39;49m\u001b[43msubmit_request\u001b[49m(conversion_prompt)\u001b[38;5;241m.\u001b[39mchoices[\u001b[38;5;241m0\u001b[39m]\u001b[38;5;241m.\u001b[39mtext\u001b[38;5;241m.\u001b[39mstrip()\n\u001b[0;32m     24\u001b[0m \u001b[38;5;66;03m# Extract converted numerical part from the response\u001b[39;00m\n\u001b[0;32m     25\u001b[0m match_converted_numerical \u001b[38;5;241m=\u001b[39m re\u001b[38;5;241m.\u001b[39msearch(\u001b[38;5;124mr\u001b[39m\u001b[38;5;124m\"\u001b[39m\u001b[38;5;124m([0-9.]+)\u001b[39m\u001b[38;5;124m\"\u001b[39m, conversion_response)\n",
      "\u001b[1;31mAttributeError\u001b[0m: 'ChatGoogleGenerativeAI' object has no attribute 'submit_request'"
     ]
    }
   ],
   "source": [
    "###MAIN\n",
    "import re\n",
    "#from openai_chatbot import ChatGoogleGenerativeAI\n",
    "\n",
    "def compare_answer_with_options(output_answer, given_options, llm):\n",
    "    # Regular expression to extract numerical and unit parts from the output answer\n",
    "    match_output = re.match(r\"([0-9.]+)\\s*([a-zA-Z]+)\", output_answer)\n",
    "    if match_output:\n",
    "        numerical_part_output = float(match_output.group(1))\n",
    "        unit_part_output = match_output.group(2).lower()\n",
    "\n",
    "        # Loop through each given option\n",
    "        for option in given_options:\n",
    "            # Regular expression to extract numerical and unit parts from the option\n",
    "            match_option = re.match(r\"([0-9.]+)\\s*([a-zA-Z]+)\", option)\n",
    "            if match_option:\n",
    "                numerical_part_option = float(match_option.group(1))\n",
    "                unit_part_option = match_option.group(2).lower()\n",
    "\n",
    "                # Convert unit of option to match unit of output answer\n",
    "                conversion_prompt = f\"Convert {numerical_part_option} {unit_part_option} to {unit_part_output}\"\n",
    "                conversion_response = llm.submit_request(conversion_prompt).choices[0].text.strip()\n",
    "\n",
    "                # Extract converted numerical part from the response\n",
    "                match_converted_numerical = re.search(r\"([0-9.]+)\", conversion_response)\n",
    "                if match_converted_numerical:\n",
    "                    converted_numerical_part_option = float(match_converted_numerical.group(1))\n",
    "\n",
    "                    # Check if converted numerical part of option matches numerical part of output answer\n",
    "                    if numerical_part_output == converted_numerical_part_option:\n",
    "                        return f\"Correct answer found: {output_answer} matches {option} from the given options.\"\n",
    "\n",
    "        return \"No matching option found.\"\n",
    "\n",
    "    else:\n",
    "        return \"Unable to parse the output answer.\"\n",
    "\n",
    "\n",
    "# Example usage\n",
    "output_answer = \"27 pF\"  # Example output answer\n",
    "given_options = [\"27 pF\", \"63 pF\", \"81 fF\", \"135 mF\"]\n",
    "llm = ChatGoogleGenerativeAI(model=\"gemini-pro\", temperature=0.2)\n",
    "\n",
    "result = compare_answer_with_options(output_answer, given_options, llm)\n",
    "print(result)\n"
   ]
  },
  {
   "cell_type": "code",
   "execution_count": null,
   "id": "672f218f-2307-4b6e-8355-459a76ab4145",
   "metadata": {},
   "outputs": [],
   "source": []
  },
  {
   "cell_type": "code",
   "execution_count": 41,
   "id": "6830af40-12d1-44c0-9466-900beccc97a6",
   "metadata": {},
   "outputs": [
    {
     "name": "stdout",
     "output_type": "stream",
     "text": [
      "Collecting PillowNote: you may need to restart the kernel to use updated packages.\n",
      "\n",
      "  Downloading pillow-10.3.0-cp311-cp311-win_amd64.whl.metadata (9.4 kB)\n",
      "Downloading pillow-10.3.0-cp311-cp311-win_amd64.whl (2.5 MB)\n",
      "   ---------------------------------------- 0.0/2.5 MB ? eta -:--:--\n",
      "   ---------------------------------------- 0.0/2.5 MB ? eta -:--:--\n",
      "   ---------------------------------------- 0.0/2.5 MB 217.9 kB/s eta 0:00:12\n",
      "   - -------------------------------------- 0.1/2.5 MB 563.7 kB/s eta 0:00:05\n",
      "   - -------------------------------------- 0.1/2.5 MB 804.6 kB/s eta 0:00:03\n",
      "   --- ------------------------------------ 0.2/2.5 MB 1.1 MB/s eta 0:00:03\n",
      "   ---- ----------------------------------- 0.3/2.5 MB 1.1 MB/s eta 0:00:02\n",
      "   ------ --------------------------------- 0.4/2.5 MB 1.3 MB/s eta 0:00:02\n",
      "   ------- -------------------------------- 0.5/2.5 MB 1.4 MB/s eta 0:00:02\n",
      "   -------- ------------------------------- 0.5/2.5 MB 1.4 MB/s eta 0:00:02\n",
      "   --------- ------------------------------ 0.6/2.5 MB 1.4 MB/s eta 0:00:02\n",
      "   ----------- ---------------------------- 0.7/2.5 MB 1.4 MB/s eta 0:00:02\n",
      "   ------------ --------------------------- 0.8/2.5 MB 1.5 MB/s eta 0:00:02\n",
      "   -------------- ------------------------- 0.9/2.5 MB 1.5 MB/s eta 0:00:02\n",
      "   --------------- ------------------------ 1.0/2.5 MB 1.5 MB/s eta 0:00:02\n",
      "   ---------------- ----------------------- 1.1/2.5 MB 1.6 MB/s eta 0:00:01\n",
      "   ----------------- ---------------------- 1.1/2.5 MB 1.6 MB/s eta 0:00:01\n",
      "   --------------------- ------------------ 1.3/2.5 MB 1.7 MB/s eta 0:00:01\n",
      "   ---------------------- ----------------- 1.4/2.5 MB 1.8 MB/s eta 0:00:01\n",
      "   ------------------------- -------------- 1.6/2.5 MB 1.9 MB/s eta 0:00:01\n",
      "   ----------------------------- ---------- 1.9/2.5 MB 2.1 MB/s eta 0:00:01\n",
      "   ------------------------------ --------- 2.0/2.5 MB 2.0 MB/s eta 0:00:01\n",
      "   ---------------------------------- ----- 2.2/2.5 MB 2.2 MB/s eta 0:00:01\n",
      "   ------------------------------------ --- 2.3/2.5 MB 2.2 MB/s eta 0:00:01\n",
      "   ------------------------------------- -- 2.4/2.5 MB 2.2 MB/s eta 0:00:01\n",
      "   ---------------------------------------  2.5/2.5 MB 2.2 MB/s eta 0:00:01\n",
      "   ---------------------------------------- 2.5/2.5 MB 2.2 MB/s eta 0:00:00\n",
      "Installing collected packages: Pillow\n",
      "Successfully installed Pillow-10.3.0\n"
     ]
    }
   ],
   "source": [
    "pip install Pillow\n"
   ]
  },
  {
   "cell_type": "code",
   "execution_count": 126,
   "id": "d4a74d94-9cbc-4e28-9bd7-36c638bc7284",
   "metadata": {},
   "outputs": [
    {
     "data": {
      "image/png": "[encoded data removed]",
      "text/plain": [
       "<PIL.PngImagePlugin.PngImageFile image mode=RGBA size=285x237>"
      ]
     },
     "execution_count": 126,
     "metadata": {},
     "output_type": "execute_result"
    }
   ],
   "source": [
    "from PIL import Image\n",
    "img1 = Image.open('cap_ques.png')\n",
    "img1"
   ]
  },
  {
   "cell_type": "code",
   "execution_count": 18,
   "id": "c7ba8257-7452-4688-a2fc-1c9dfc8f21c8",
   "metadata": {},
   "outputs": [],
   "source": [
    "from langchain_core.messages import HumanMessage\n",
    "#llm = ChatGoogleGenerativeAI(model = \"gemini-pro\", temperature = 0)"
   ]
  },
  {
   "cell_type": "code",
   "execution_count": 127,
   "id": "66c833c1-953e-40d7-aa9a-b9f7564e5a74",
   "metadata": {},
   "outputs": [],
   "source": [
    "llm2 = ChatGoogleGenerativeAI(model = \"gemini-pro-vision\")"
   ]
  },
  {
   "cell_type": "code",
   "execution_count": 48,
   "id": "2a35a185-45dc-42b7-8939-9fa2f1426fb2",
   "metadata": {},
   "outputs": [],
   "source": [
    "# second_prompt = ChatPromptTemplate.from_template(\n",
    "    \n",
    "#     prompt = 'Take the input image for the given question for better clarity into consideration and reevaluate the answer. Check the answer from : {output_answer} if it satisfies if the input image for the question is taken : {img1} ' ,\n",
    "#     message = HumanMessage(\n",
    "#         content=[\n",
    "#             {'type': 'text', 'text': prompt},\n",
    "#             {'type': 'image_url', 'image_url': img1}\n",
    "            \n",
    "            \n",
    "#         ]\n",
    "#     )\n",
    "    \n",
    "# )    \n",
    "# chain_two = LLMChain(llm=llm2, prompt=second_prompt, output_key=\"output_answer2\")"
   ]
  },
  {
   "cell_type": "code",
   "execution_count": 135,
   "id": "68c66376-25df-4af2-b887-f576ca661032",
   "metadata": {},
   "outputs": [],
   "source": [
    "llm = ChatGoogleGenerativeAI(model = \"gemini-pro\", temperature = 0)\n",
    "# prompt template 1\n",
    "first_prompt = ChatPromptTemplate.from_template(\n",
    "    \"\"\"You are an expert in the field of physics particularly capacitors and dielectrics. You are faced with the following question. Take care to properly understand the question and look at the keywords before trying to solve the question. Also look into possible points given in the question which could be really important for calculating the final answer. Based on the question, try to find what is given and what is to be found. After this, try to look into all the formulae that you know in this topic and find the formulae that might link the given parameters to the final answer. After this,write only the final answer that you found. Here's the question:\n",
    "The question is... provided in the input variable...{jee_problem}  \"\"\"\n",
    ")\n",
    "\n",
    "# Chain 1\n",
    "chain_one2 = LLMChain(llm=llm, prompt=first_prompt, output_key=\"output_answer\")"
   ]
  },
  {
   "cell_type": "code",
   "execution_count": 147,
   "id": "d17a2fe6-2ff4-44a3-8d64-64051ebf9557",
   "metadata": {},
   "outputs": [],
   "source": [
    "import base64\n",
    "# Read image data from file\n",
    "with open(\"cap_ques.png\", \"rb\") as image_file:\n",
    "    image_data = image_file.read()\n",
    "\n",
    "# Convert image data to Base64 encoding\n",
    "image_data = base64.b64encode(image_data).decode(\"utf-8\")"
   ]
  },
  {
   "cell_type": "code",
   "execution_count": 137,
   "id": "1dd4293e-995e-4efd-9c8a-7fc05d8b2c97",
   "metadata": {},
   "outputs": [],
   "source": [
    "llm = ChatGoogleGenerativeAI(model = \"gemini-pro\", temperature = 0)\n",
    "# prompt template 1\n",
    "second_prompt = ChatPromptTemplate.from_template(\n",
    "    \"\"\" Take the input image for the given question for better clarity into consideration and reevaluate the answer. Check the answer from : {output_answer} that you get from the first prompt as output if it satisfies if the input image for the question is taken : {image_data}  \"\"\"\n",
    ")\n",
    "\n",
    "# Chain 2\n",
    "chain_two2 = LLMChain(llm=llm, prompt=second_prompt, output_key=\"output_answer2\")"
   ]
  },
  {
   "cell_type": "code",
   "execution_count": 138,
   "id": "e9ae85e1-2489-46d0-8c05-bec586274321",
   "metadata": {},
   "outputs": [],
   "source": [
    "third_prompt = ChatPromptTemplate.from_template(\n",
    "    \"The answer: {output_answer2} that you get for the input queston will be strictly from the one from the given options:{options}, if not then your answer is incorrect,THINK AGAIN GO THROUGH THE QUESTION AND AGAIN AND TRY TO SOLVE IT AGAIN\"\n",
    ")\n",
    "# chain 3\n",
    "chain_three2 = LLMChain(llm=llm, prompt=third_prompt, output_key=\"final_answer\")"
   ]
  },
  {
   "cell_type": "code",
   "execution_count": 139,
   "id": "c14228b1-f203-4041-aac4-69a36c205144",
   "metadata": {},
   "outputs": [],
   "source": [
    "given_options = \"['27 picofarad', '63 picofarad', '81 picofarad', '135 picofarad']\"\n",
    "overall_chain2 = SequentialChain(\n",
    "    memory=SimpleMemory(memories={\n",
    "                        \"options\": \"given_options\"}),\n",
    "    chains=[chain_one2,chain_two2, chain_three2],\n",
    "    input_variables=[\"jee_problem\",\"image_data\"],\n",
    "    output_variables=[\"output_answer\",\"output_answer2\",\"final_answer\"],\n",
    "    verbose=True\n",
    ")"
   ]
  },
  {
   "cell_type": "code",
   "execution_count": 140,
   "id": "4981f1e5-b54b-45d1-9a69-d15470cb0615",
   "metadata": {},
   "outputs": [
    {
     "name": "stdout",
     "output_type": "stream",
     "text": [
      "\n",
      "\n",
      "\u001b[1m> Entering new SequentialChain chain...\u001b[0m\n",
      "\n",
      "\u001b[1m> Finished chain.\u001b[0m\n"
     ]
    },
    {
     "data": {
      "text/plain": [
       "{'jee_problem': 'A container has a base of 50 cm × 5 cm and height 50 cm, as shown in the figure. It has two parallel electrically\\nconducting walls each of area 50 cm × 50 cm. The remaining walls of the container are thin and non-conducting.\\nThe container is being filled with a liquid of dielectric constant 3 at a uniform rate of 250 cm3 s^(-1)\\n. What is the value of the capacitance of the container after 10 seconds? Note that the part that is not yet filled with dielectric also works as capacitance so it also has some value of capaciatnce which needs to be added.\\n[Given: Permittivity of free space epsilonnot\\n= 9 × 10−12 C^2 N^-1 m^-2\\n\\n, the effects of the non-conducting walls on the\\ncapacitance are negligible]',\n",
       " 'image_data': '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',\n",
       " 'options': 'given_options',\n",
       " 'output_answer': '1.136 × 10^-9 F',\n",
       " 'output_answer2': 'The answer is correct. The input image is a 2D array of pixels, and the output is a single number representing the total brightness of the image. The formula for calculating the total brightness is to sum up the values of all the pixels in the image. In this case, the image is 100x100 pixels, and each pixel has a value between 0 and 255. The total brightness is therefore the sum of all the pixel values, which is 1275000. Dividing this by the total number of pixels (10000) gives an average brightness of 127.5. The output of the program is therefore 127.5, which is the correct answer.',\n",
       " 'final_answer': 'The answer is correct. The input image is a 2D array of pixels, and the output is a single number representing the total brightness of the image. The formula for calculating the total brightness is to sum up the values of all the pixels in the image. In this case, the image is 100x100 pixels, and each pixel has a value between 0 and 255. The total brightness is therefore the sum of all the pixel values, which is 1275000. Dividing this by the total number of pixels (10000) gives an average brightness of 127.5. The output of the program is therefore 127.5, which is the correct answer.'}"
      ]
     },
     "execution_count": 140,
     "metadata": {},
     "output_type": "execute_result"
    }
   ],
   "source": [
    "jee_problem = \"\"\"A container has a base of 50 cm × 5 cm and height 50 cm, as shown in the figure. It has two parallel electrically\n",
    "conducting walls each of area 50 cm × 50 cm. The remaining walls of the container are thin and non-conducting.\n",
    "The container is being filled with a liquid of dielectric constant 3 at a uniform rate of 250 cm3 s^(-1)\n",
    ". What is the value of the capacitance of the container after 10 seconds? Note that the part that is not yet filled with dielectric also works as capacitance so it also has some value of capaciatnce which needs to be added.\n",
    "[Given: Permittivity of free space epsilonnot\n",
    "= 9 × 10−12 C^2 N^-1 m^-2\n",
    "\n",
    ", the effects of the non-conducting walls on the\n",
    "capacitance are negligible]\"\"\"\n",
    "#overall_chain('jee_problem','img1')\n",
    "overall_chain2({'jee_problem': jee_problem, 'image_data': image_data})"
   ]
  },
  {
   "cell_type": "code",
   "execution_count": 42,
   "id": "744ea54d-07bb-4c86-8981-1a76e8e60d02",
   "metadata": {},
   "outputs": [
    {
     "name": "stdout",
     "output_type": "stream",
     "text": [
      "<PIL.PngImagePlugin.PngImageFile image mode=RGBA size=285x237 at 0x275C0F1EE50>\n"
     ]
    }
   ],
   "source": [
    "print(img1)"
   ]
  },
  {
   "cell_type": "code",
   "execution_count": 57,
   "id": "4b0fbc9e-eb95-462e-ae15-0d3ceafb7f78",
   "metadata": {},
   "outputs": [],
   "source": [
    "##### LEAVE UPLOADING IMAGE FOR NOW"
   ]
  },
  {
   "cell_type": "code",
   "execution_count": 1,
   "id": "c8fb3b69-d523-4d34-a64e-51e201fcf112",
   "metadata": {},
   "outputs": [],
   "source": [
    "!pip -q install wikipedia"
   ]
  },
  {
   "cell_type": "code",
   "execution_count": 124,
   "id": "c74e7011-9f68-4d84-be9b-5d2162e57ec9",
   "metadata": {},
   "outputs": [],
   "source": [
    "from langchain.utilities import WikipediaAPIWrapper"
   ]
  },
  {
   "cell_type": "code",
   "execution_count": 125,
   "id": "6e76b97d-21b3-4622-b02e-37e3331026f1",
   "metadata": {},
   "outputs": [],
   "source": [
    "wikipedia = WikipediaAPIWrapper()"
   ]
  },
  {
   "cell_type": "code",
   "execution_count": 3,
   "id": "a2beb508-aeb6-4384-b0e2-ee4c7cdf0187",
   "metadata": {},
   "outputs": [
    {
     "data": {
      "text/plain": [
       "\"Page: LangChain\\nSummary: LangChain is a framework designed to simplify the creation of applications using large language models (LLMs). As a language model integration framework, LangChain's use-cases largely overlap with those of language models in general, including document analysis and summarization, chatbots, and code analysis.\\n\\nPage: DataStax\\nSummary: DataStax, Inc. is a real-time data for AI company based in Santa Clara, California. Its product Astra DB is a cloud database-as-a-service based on Apache Cassandra. DataStax also offers DataStax Enterprise (DSE), an on-premises database built on Apache Cassandra, and Astra Streaming, a messaging and event streaming cloud service based on Apache Pulsar. As of June 2022, the company has roughly 800 customers distributed in over 50 countries.\\n\\nPage: Sentence embedding\\nSummary: In natural language processing, a sentence embedding refers to a numeric representation of a sentence in the form of a vector of real numbers which encodes meaningful semantic information.State of the art embeddings are based on the learned hidden layer representation of dedicated sentence transformer models. BERT pioneered an approach involving the use of a dedicated [CLS] token prepended to the beginning of each sentence inputted into the model; the final hidden state vector of this token encodes information about the sentence and can be fine-tuned for use in sentence classification tasks. In practice however, BERT's sentence embedding with the [CLS] token achieves poor performance, often worse than simply averaging non-contextual word embeddings. SBERT later achieved superior sentence embedding performance by fine tuning BERT's [CLS] token embeddings through the usage of a siamese neural network architecture on the SNLI dataset. \\nOther approaches are loosely based on the idea of distributional semantics applied to sentences. Skip-Thought trains an encoder-decoder structure for the task of neighboring sentences predictions. Though this has been shown to achieve worse performance than approaches such as InferSent or SBERT. \\nAn alternative direction is to aggregate word embeddings, such as those returned by Word2vec, into sentence embeddings. The most straightforward approach is to simply compute the average of word vectors, known as continuous bag-of-words (CBOW). However, more elaborate solutions based on word vector quantization have also been proposed. One such approach is the vector of locally aggregated word embeddings (VLAWE), which demonstrated performance improvements in downstream text classification tasks.\\n\\n\""
      ]
     },
     "execution_count": 3,
     "metadata": {},
     "output_type": "execute_result"
    }
   ],
   "source": [
    "wikipedia.run('Langchain')"
   ]
  },
  {
   "cell_type": "code",
   "execution_count": 118,
   "id": "528cca52-0baf-4001-b0cb-f7c3718da162",
   "metadata": {},
   "outputs": [],
   "source": [
    "from langchain.utilities import PythonREPL"
   ]
  },
  {
   "cell_type": "code",
   "execution_count": 119,
   "id": "9219b017-c91e-4624-a7f8-837b044be94b",
   "metadata": {},
   "outputs": [],
   "source": [
    "python_repl = PythonREPL()"
   ]
  },
  {
   "cell_type": "code",
   "execution_count": 6,
   "id": "b737794a-60f7-439a-9b64-cb9153339520",
   "metadata": {},
   "outputs": [],
   "source": [
    "!pip -q install duckduckgo-search"
   ]
  },
  {
   "cell_type": "code",
   "execution_count": 120,
   "id": "e2a7d4b8-0f86-4068-aeb1-c839660ee4a6",
   "metadata": {},
   "outputs": [],
   "source": [
    "from langchain.tools import DuckDuckGoSearchRun"
   ]
  },
  {
   "cell_type": "code",
   "execution_count": 121,
   "id": "c28adb93-bf32-4c83-845b-9da66132d26b",
   "metadata": {},
   "outputs": [],
   "source": [
    "search = DuckDuckGoSearchRun()"
   ]
  },
  {
   "cell_type": "code",
   "execution_count": 122,
   "id": "a7b41aba-b1de-443a-b524-fbd7db682c59",
   "metadata": {},
   "outputs": [],
   "source": [
    "from langchain.agents import Tool\n",
    "from langchain.tools import BaseTool"
   ]
  },
  {
   "cell_type": "code",
   "execution_count": 146,
   "id": "e40ffcdb-c3a2-4b22-8e15-eab45d316f15",
   "metadata": {},
   "outputs": [],
   "source": [
    "tools = [\n",
    "    Tool(\n",
    "        name = \"python repl\",\n",
    "        func=python_repl.run,\n",
    "        description=\"useful for when you need to use python to answer a question.\"\n",
    "    )\n",
    "]\n",
    "wikipedia_tool = Tool(\n",
    "    name='wikipedia',\n",
    "    func= wikipedia.run,\n",
    "    description=\"Useful for when you need to look up a topic\"\n",
    ")\n",
    "duckduckgo_tool = Tool(\n",
    "    name='DuckDuckGo Search',\n",
    "    func= search.run,\n",
    "    description=\"Useful for when you need to do a search on the internet to find information that another tool can't find. be specific with your input.\"\n",
    ")\n",
    "tools.append(duckduckgo_tool)\n",
    "tools.append(wikipedia_tool)"
   ]
  },
  {
   "cell_type": "code",
   "execution_count": 142,
   "id": "a6b7c97c-1ae9-499f-9983-cf372ee2c11b",
   "metadata": {},
   "outputs": [],
   "source": [
    "llm = ChatGoogleGenerativeAI(model = \"gemini-pro\", temperature = 0)\n",
    "from langchain.agents import initialize_agent\n",
    "\n",
    "zero_shot_agent = initialize_agent(\n",
    "    agent=\"zero-shot-react-description\",\n",
    "    tools=tools,\n",
    "    llm=llm,\n",
    "    verbose=True,\n",
    "    max_iterations=3,\n",
    ")"
   ]
  },
  {
   "cell_type": "code",
   "execution_count": 144,
   "id": "851a0e81-08b9-45f8-a1b1-9623ffb4b3b9",
   "metadata": {},
   "outputs": [
    {
     "name": "stdout",
     "output_type": "stream",
     "text": [
      "\n",
      "\n",
      "\u001b[1m> Entering new AgentExecutor chain...\u001b[0m\n",
      "\u001b[32;1m\u001b[1;3mAction: wikipedia\n",
      "Action Input: pKa\u001b[0m"
     ]
    },
    {
     "name": "stderr",
     "output_type": "stream",
     "text": [
      "C:\\Python311\\Lib\\site-packages\\wikipedia\\wikipedia.py:389: GuessedAtParserWarning: No parser was explicitly specified, so I'm using the best available HTML parser for this system (\"lxml\"). This usually isn't a problem, but if you run this code on another system, or in a different virtual environment, it may use a different parser and behave differently.\n",
      "\n",
      "The code that caused this warning is on line 389 of the file C:\\Python311\\Lib\\site-packages\\wikipedia\\wikipedia.py. To get rid of this warning, pass the additional argument 'features=\"lxml\"' to the BeautifulSoup constructor.\n",
      "\n",
      "  lis = BeautifulSoup(html).find_all('li')\n"
     ]
    },
    {
     "name": "stdout",
     "output_type": "stream",
     "text": [
      "\n",
      "Observation: \u001b[38;5;200m\u001b[1;3mPage: Acid dissociation constant\n",
      "Summary: In chemistry, an acid dissociation constant (also known as acidity constant, or acid-ionization constant; denoted Ka{\\displaystyle K_{a}}) is a quantitative measure of the strength of an acid in solution. It is the equilibrium constant for a chemical reaction\n",
      "\n",
      "HA↽−−⇀A−+H+{\\displaystyle {\\ce {HA <=> A^- + H^+}}}known as dissociation in the context of acid–base reactions. The chemical species HA is an acid that dissociates into A−, the conjugate base of the acid and a hydrogen ion, H+. The system is said to be in equilibrium when the concentrations of its components will not change over time, because both forward and backward reactions are occurring at the same rate.The dissociation constant is defined by\n",
      "Ka=[A−][H+][HA],{\\displaystyle K_{\\text{a}}=\\mathrm {\\frac {[A^{-}][H^{+}]}{[HA]}} ,} or\n",
      "pKa=−log10⁡Ka=log10⁡[HA][A−][H+]{\\displaystyle \\mathrm {p} K_{{\\ce {a}}}=-\\log _{10}K_{\\text{a}}=\\log _{10}{\\frac {{\\ce {[HA]}}}{[{\\ce {A^-}}][{\\ce {H+}}]}}}where quantities in square brackets represent the concentrations of the species at equilibrium. As a simple example for a weak acid with Ka = 10−5, log Ka is the exponent which is -5, so that pKa = 5. And for acetic acid with Ka = 1.8 x 10−5, pKa is close to 5. A higher Ka corresponds to a stronger acid which is more dissociated at equilibrium. For the more convenient logarithmic scale, a lower pKa means a stronger acid.\n",
      "\n",
      "\n",
      "\n",
      "Page: Protein pKa calculations\n",
      "Summary: In computational biology, protein pKa calculations are used to estimate the pKa values of amino acids as they exist within proteins. These calculations complement the pKa values reported for amino acids in their free state, and are used frequently within the fields of molecular modeling, structural bioinformatics, and computational biology.\u001b[0m\n",
      "Thought:\u001b[32;1m\u001b[1;3mAction: DuckDuckGo Search\n",
      "Action Input: What is the relationship between pH and pKa?\u001b[0m\n",
      "Observation: \u001b[33;1m\u001b[1;3mThe net reaction of CaF 2 with strong acid is thus. CaF2 ( s) + 2H + (aq) → Ca2 + (aq) + 2HF(aq) Example 18.7.1 shows how to calculate the solubility effect of adding a strong acid to a solution of a sparingly soluble salt. Sparingly soluble salts derived from weak acids tend to be more soluble in an acidic solution. Understanding the relationship between pKa and pH is crucial in various scientific fields. pKa provides insight into the molecule's behavior in different environments, crucial for drug design, where the compound's ability to donate or accept protons can affect its absorption and distribution within the body. pH, on the other hand, is vital in processes such as fermentation, where specific pH ... In chemistry, an acid dissociation constant (also known as acidity constant, or acid-ionization constant; denoted ) is a quantitative measure of the strength of an acid in solution.It is the equilibrium constant for a chemical reaction + + known as dissociation in the context of acid-base reactions.The chemical species HA is an acid that dissociates into A −, the conjugate base of the acid ... pH vs pKa. pH vs pKa: pH is a measure of the concentration of hydrogen ions (H+) in a solution.It tells us whether a solution is acidic or basic, with values ranging from 0 to 14.On the other hand, pKa represents the acid dissociation constant, which is the negative logarithm of the equilibrium constant for ionization reactions involving weak acids. ... A 0.150 M solution of formic acid at 25°C (pKa = 3.75) has a pH of 2.28 and is 3.5% ionized. ... The Relationship between Titrations and Buffers. There is a strong correlation between the effectiveness of a buffer solution and the titration curves discussed in Section 16.5. Consider the schematic titration curve of a weak acid with a strong ...\u001b[0m\n",
      "Thought:\u001b[32;1m\u001b[1;3mAction: DuckDuckGo Search\n",
      "Action Input: What is the relationship between pH and solubility of a sparingly soluble salt of a weak acid?\u001b[0m\n",
      "Observation: \u001b[33;1m\u001b[1;3mThe net reaction of CaF 2 with strong acid is thus. CaF2 ( s) + 2H + (aq) → Ca2 + (aq) + 2HF(aq) Example 18.7.1 shows how to calculate the solubility effect of adding a strong acid to a solution of a sparingly soluble salt. Sparingly soluble salts derived from weak acids tend to be more soluble in an acidic solution. The equilibrium constant for the dissolution of a sparingly soluble salt is the solubility product (K sp) of the salt. Because the concentration of a pure solid such as Ca 3 (PO 4 ) 2 is a constant, it does not appear explicitly in the equilibrium constant expression. The pH of a solution plays a crucial role in determining the solubility of various substances. pH is a measure of the acid ity or alkalinity of a solution, and it is determined by the concentration of hydrogen ions ( H+) present. The solubility of a substance refers to its ability to dissolve in a given solvent. Solubility of salts refers to the ability of a salt to dissolve in a given solvent, typically water.It is an important concept in solution chemistry and plays a crucial role in various chemical processes.Understanding the solubility of salts is essential for predicting the outcome of chemical reactions and determining the concentration of solutions. Solubility product, often abbreviated as Ksp quantifies the equilibrium between a sparingly soluble ionic compound and its constituent ions in a saturated solution. In simpler terms, it represents the maximum amount of a particular compound that can dissolve in a specific solvent under given conditions.\u001b[0m\n",
      "Thought:\u001b[32;1m\u001b[1;3m\u001b[0m\n",
      "\n",
      "\u001b[1m> Finished chain.\u001b[0m\n"
     ]
    },
    {
     "data": {
      "text/plain": [
       "'Agent stopped due to iteration limit or time limit.'"
      ]
     },
     "execution_count": 144,
     "metadata": {},
     "output_type": "execute_result"
    },
    {
     "name": "stderr",
     "output_type": "stream",
     "text": [
      "C:\\Python311\\Lib\\site-packages\\curl_cffi\\aio.py:205: UserWarning: Curlm alread closed! quitting from process_data\n",
      "  warnings.warn(\"Curlm alread closed! quitting from process_data\")\n"
     ]
    }
   ],
   "source": [
    "zero_shot_agent.run(\"\"\"  On decreasing the pH from 7 to 2, the solubility of a sparingly soluble salt (MX) of a weak acid (HX) increased \n",
    "from 10^−4 mol L^−1 to 10^−3 mol L^−1. The pKa of HX is \"\"\" )"
   ]
  },
  {
   "cell_type": "code",
   "execution_count": null,
   "id": "4e32a6a4-1e6e-4462-bfc5-cc9b2cc012d9",
   "metadata": {},
   "outputs": [],
   "source": []
  },
  {
   "cell_type": "code",
   "execution_count": null,
   "id": "659c7788-0873-4448-ad27-9e5e9ef530a9",
   "metadata": {},
   "outputs": [],
   "source": []
  },
  {
   "cell_type": "code",
   "execution_count": null,
   "id": "4f14efc6-7f18-42e1-abf2-3d6ff0ea83a3",
   "metadata": {},
   "outputs": [],
   "source": [
    " In an experiment for determination of the focal length of a thin convex lens, the distance of the object from the \n",
    "lens is 10 ± 0.1 cm and the distance of its real image from the lens is 20 ± 0.2 cm. The error in the determination \n",
    "of focal length of the lens is n%. The value of n is ?"
   ]
  },
  {
   "cell_type": "code",
   "execution_count": null,
   "id": "e1109963-8a44-40ff-b070-a9fd60ae9a5e",
   "metadata": {},
   "outputs": [],
   "source": []
  },
  {
   "cell_type": "code",
   "execution_count": null,
   "id": "2a3390b1-e8a4-435b-a152-b13a4cfcb435",
   "metadata": {},
   "outputs": [],
   "source": []
  },
  {
   "cell_type": "code",
   "execution_count": 1,
   "id": "e1257c6f-108b-4756-9e65-e2d13beecc85",
   "metadata": {},
   "outputs": [
    {
     "name": "stdout",
     "output_type": "stream",
     "text": [
      "Collecting matplotlib\n",
      "  Downloading matplotlib-3.8.4-cp311-cp311-win_amd64.whl.metadata (5.9 kB)\n",
      "Collecting contourpy>=1.0.1 (from matplotlib)\n",
      "  Downloading contourpy-1.2.1-cp311-cp311-win_amd64.whl.metadata (5.8 kB)\n",
      "Collecting cycler>=0.10 (from matplotlib)\n",
      "  Using cached cycler-0.12.1-py3-none-any.whl.metadata (3.8 kB)\n",
      "Collecting fonttools>=4.22.0 (from matplotlib)\n",
      "  Downloading fonttools-4.51.0-cp311-cp311-win_amd64.whl.metadata (162 kB)\n",
      "     ---------------------------------------- 0.0/162.8 kB ? eta -:--:--\n",
      "     --------- --------------------------- 41.0/162.8 kB 991.0 kB/s eta 0:00:01\n",
      "     ----------------------------------- -- 153.6/162.8 kB 1.8 MB/s eta 0:00:01\n",
      "     -------------------------------------- 162.8/162.8 kB 1.4 MB/s eta 0:00:00\n",
      "Collecting kiwisolver>=1.3.1 (from matplotlib)\n",
      "  Downloading kiwisolver-1.4.5-cp311-cp311-win_amd64.whl.metadata (6.5 kB)\n",
      "Requirement already satisfied: numpy>=1.21 in c:\\python311\\lib\\site-packages (from matplotlib) (1.25.2)\n",
      "Requirement already satisfied: packaging>=20.0 in c:\\python311\\lib\\site-packages (from matplotlib) (23.2)\n",
      "Requirement already satisfied: pillow>=8 in c:\\python311\\lib\\site-packages (from matplotlib) (10.2.0)\n",
      "Requirement already satisfied: pyparsing>=2.3.1 in c:\\python311\\lib\\site-packages (from matplotlib) (3.1.2)\n",
      "Requirement already satisfied: python-dateutil>=2.7 in c:\\python311\\lib\\site-packages (from matplotlib) (2.8.2)\n",
      "Requirement already satisfied: six>=1.5 in c:\\python311\\lib\\site-packages (from python-dateutil>=2.7->matplotlib) (1.16.0)\n",
      "Downloading matplotlib-3.8.4-cp311-cp311-win_amd64.whl (7.7 MB)\n",
      "   ---------------------------------------- 0.0/7.7 MB ? eta -:--:--\n",
      "   - -------------------------------------- 0.2/7.7 MB 4.1 MB/s eta 0:00:02\n",
      "   - -------------------------------------- 0.3/7.7 MB 4.3 MB/s eta 0:00:02\n",
      "   -- ------------------------------------- 0.4/7.7 MB 3.0 MB/s eta 0:00:03\n",
      "   --- ------------------------------------ 0.6/7.7 MB 3.4 MB/s eta 0:00:03\n",
      "   ---- ----------------------------------- 0.8/7.7 MB 3.6 MB/s eta 0:00:02\n",
      "   ----- ---------------------------------- 1.0/7.7 MB 3.4 MB/s eta 0:00:02\n",
      "   ------ --------------------------------- 1.3/7.7 MB 3.7 MB/s eta 0:00:02\n",
      "   ------- -------------------------------- 1.5/7.7 MB 3.7 MB/s eta 0:00:02\n",
      "   -------- ------------------------------- 1.7/7.7 MB 3.8 MB/s eta 0:00:02\n",
      "   --------- ------------------------------ 1.9/7.7 MB 3.8 MB/s eta 0:00:02\n",
      "   ---------- ----------------------------- 1.9/7.7 MB 3.8 MB/s eta 0:00:02\n",
      "   ---------- ----------------------------- 2.0/7.7 MB 3.7 MB/s eta 0:00:02\n",
      "   ---------- ----------------------------- 2.1/7.7 MB 3.4 MB/s eta 0:00:02\n",
      "   ------------ --------------------------- 2.4/7.7 MB 3.6 MB/s eta 0:00:02\n",
      "   ------------- -------------------------- 2.6/7.7 MB 3.5 MB/s eta 0:00:02\n",
      "   -------------- ------------------------- 2.8/7.7 MB 3.6 MB/s eta 0:00:02\n",
      "   --------------- ------------------------ 2.9/7.7 MB 3.5 MB/s eta 0:00:02\n",
      "   ---------------- ----------------------- 3.1/7.7 MB 3.5 MB/s eta 0:00:02\n",
      "   ---------------- ----------------------- 3.2/7.7 MB 3.4 MB/s eta 0:00:02\n",
      "   ------------------ --------------------- 3.6/7.7 MB 3.6 MB/s eta 0:00:02\n",
      "   ------------------- -------------------- 3.8/7.7 MB 3.6 MB/s eta 0:00:02\n",
      "   ------------------- -------------------- 3.8/7.7 MB 3.6 MB/s eta 0:00:02\n",
      "   -------------------- ------------------- 4.0/7.7 MB 3.5 MB/s eta 0:00:02\n",
      "   ---------------------- ----------------- 4.2/7.7 MB 3.6 MB/s eta 0:00:01\n",
      "   ---------------------- ----------------- 4.3/7.7 MB 3.4 MB/s eta 0:00:01\n",
      "   ----------------------- ---------------- 4.6/7.7 MB 3.5 MB/s eta 0:00:01\n",
      "   ------------------------ --------------- 4.8/7.7 MB 3.5 MB/s eta 0:00:01\n",
      "   ------------------------- -------------- 4.8/7.7 MB 3.6 MB/s eta 0:00:01\n",
      "   --------------------------- ------------ 5.2/7.7 MB 3.5 MB/s eta 0:00:01\n",
      "   --------------------------- ------------ 5.3/7.7 MB 3.5 MB/s eta 0:00:01\n",
      "   ----------------------------- ---------- 5.7/7.7 MB 3.5 MB/s eta 0:00:01\n",
      "   ----------------------------- ---------- 5.7/7.7 MB 3.5 MB/s eta 0:00:01\n",
      "   ----------------------------- ---------- 5.7/7.7 MB 3.5 MB/s eta 0:00:01\n",
      "   ------------------------------- -------- 6.0/7.7 MB 3.4 MB/s eta 0:00:01\n",
      "   ------------------------------- -------- 6.0/7.7 MB 3.4 MB/s eta 0:00:01\n",
      "   ------------------------------- -------- 6.1/7.7 MB 3.3 MB/s eta 0:00:01\n",
      "   -------------------------------- ------- 6.1/7.7 MB 3.2 MB/s eta 0:00:01\n",
      "   -------------------------------- ------- 6.3/7.7 MB 3.2 MB/s eta 0:00:01\n",
      "   ---------------------------------- ----- 6.5/7.7 MB 3.2 MB/s eta 0:00:01\n",
      "   ----------------------------------- ---- 6.7/7.7 MB 3.2 MB/s eta 0:00:01\n",
      "   ----------------------------------- ---- 6.7/7.7 MB 3.2 MB/s eta 0:00:01\n",
      "   ----------------------------------- ---- 6.8/7.7 MB 3.2 MB/s eta 0:00:01\n",
      "   ------------------------------------- -- 7.1/7.7 MB 3.2 MB/s eta 0:00:01\n",
      "   -------------------------------------- - 7.3/7.7 MB 3.2 MB/s eta 0:00:01\n",
      "   -------------------------------------- - 7.4/7.7 MB 3.2 MB/s eta 0:00:01\n",
      "   ---------------------------------------  7.6/7.7 MB 3.2 MB/s eta 0:00:01\n",
      "   ---------------------------------------  7.6/7.7 MB 3.2 MB/s eta 0:00:01\n",
      "   ---------------------------------------- 7.7/7.7 MB 3.1 MB/s eta 0:00:00\n",
      "Downloading contourpy-1.2.1-cp311-cp311-win_amd64.whl (188 kB)\n",
      "   ---------------------------------------- 0.0/188.2 kB ? eta -:--:--\n",
      "   --------------------------------------  184.3/188.2 kB 11.6 MB/s eta 0:00:01\n",
      "   ---------------------------------------- 188.2/188.2 kB 3.9 MB/s eta 0:00:00\n",
      "Using cached cycler-0.12.1-py3-none-any.whl (8.3 kB)\n",
      "Downloading fonttools-4.51.0-cp311-cp311-win_amd64.whl (2.2 MB)\n",
      "   ---------------------------------------- 0.0/2.2 MB ? eta -:--:--\n",
      "   ---- ----------------------------------- 0.2/2.2 MB 7.3 MB/s eta 0:00:01\n",
      "   ------- -------------------------------- 0.4/2.2 MB 5.0 MB/s eta 0:00:01\n",
      "   ----------- ---------------------------- 0.7/2.2 MB 4.6 MB/s eta 0:00:01\n",
      "   ---------------- ----------------------- 0.9/2.2 MB 4.4 MB/s eta 0:00:01\n",
      "   ------------------- -------------------- 1.0/2.2 MB 4.1 MB/s eta 0:00:01\n",
      "   ----------------------- ---------------- 1.3/2.2 MB 4.2 MB/s eta 0:00:01\n",
      "   --------------------------- ------------ 1.5/2.2 MB 4.3 MB/s eta 0:00:01\n",
      "   ------------------------------- -------- 1.7/2.2 MB 4.3 MB/s eta 0:00:01\n",
      "   ---------------------------------- ----- 1.9/2.2 MB 4.3 MB/s eta 0:00:01\n",
      "   -------------------------------------- - 2.1/2.2 MB 4.3 MB/s eta 0:00:01\n",
      "   ---------------------------------------- 2.2/2.2 MB 4.1 MB/s eta 0:00:00\n",
      "Downloading kiwisolver-1.4.5-cp311-cp311-win_amd64.whl (56 kB)\n",
      "   ---------------------------------------- 0.0/56.1 kB ? eta -:--:--\n",
      "   ---------------------------------------- 56.1/56.1 kB 1.5 MB/s eta 0:00:00\n",
      "Installing collected packages: kiwisolver, fonttools, cycler, contourpy, matplotlib\n",
      "Successfully installed contourpy-1.2.1 cycler-0.12.1 fonttools-4.51.0 kiwisolver-1.4.5 matplotlib-3.8.4\n",
      "Note: you may need to restart the kernel to use updated packages.\n"
     ]
    }
   ],
   "source": [
    "pip install matplotlib"
   ]
  },
  {
   "cell_type": "code",
   "execution_count": 10,
   "id": "74ef4cf6-db45-4c12-b397-4ca6743f2bb6",
   "metadata": {},
   "outputs": [
    {
     "data": {
      "image/png": "[encoded data removed]",
      "text/plain": [
       "<Figure size 1000x600 with 1 Axes>"
      ]
     },
     "metadata": {},
     "output_type": "display_data"
    }
   ],
   "source": [
    "import matplotlib.pyplot as plt\n",
    "\n",
    "# Define the data\n",
    "type_of_question = ['Single Choice', 'Numerical', 'Multiple Choice']\n",
    "number_correct = [9, 7, 3]  # Assuming 0 correct for Numerical and Multiple Choice for example\n",
    "\n",
    "# Total questions for each type\n",
    "total_questions = 30\n",
    "\n",
    "# Create the histogram\n",
    "plt.figure(figsize=(10, 6))\n",
    "plt.bar(type_of_question, number_correct, color='blue')\n",
    "\n",
    "# Add labels and title\n",
    "plt.xlabel('Type of Question')\n",
    "plt.ylabel('Number of Questions Solved Correctly')\n",
    "plt.title('Correctly Solved Questions Per Type')\n",
    "plt.ylim(0, total_questions)  # Set y-axis limit to the total number of questions per type\n",
    "\n",
    "# Adding the total number of questions as a text label on top of each bar\n",
    "for i, correct in enumerate(number_correct):\n",
    "    plt.text(i, correct + 0.5, f'{correct}/{total_questions}', ha='center')\n",
    "\n",
    "# Show the plot\n",
    "plt.show()"
   ]
  },
  {
   "cell_type": "code",
   "execution_count": 6,
   "id": "54069d8c-7e64-4e6a-afa2-86df1a3f7097",
   "metadata": {},
   "outputs": [
    {
     "data": {
      "image/png": "[encoded data removed]",
      "text/plain": [
       "<Figure size 1000x600 with 1 Axes>"
      ]
     },
     "metadata": {},
     "output_type": "display_data"
    }
   ],
   "source": [
    "import matplotlib.pyplot as plt\n",
    "import numpy as np\n",
    "\n",
    "# Data setup\n",
    "type_of_question = ['Single Choice', 'Numerical', 'Multiple Choice']\n",
    "subjects = ['Physics', 'Chemistry', 'Maths']\n",
    "\n",
    "# Assuming data for Numerical and Multiple Choice for example purposes\n",
    "# Each sublist represents Physics, Chemistry, Maths respectively\n",
    "correct_by_subject = {\n",
    "    'Single Choice': [2, 4, 1],\n",
    "    'Numerical': [3, 2, 0],  # Update these values based on your actual data\n",
    "    'Multiple Choice': [1, 1, 0]  # Update these values based on your actual data\n",
    "}\n",
    "\n",
    "# Number of groups\n",
    "num_groups = len(type_of_question)\n",
    "num_subjects = len(subjects)\n",
    "\n",
    "# Creating position of the bars on the x-axis\n",
    "index = np.arange(num_groups)\n",
    "bar_width = 0.25\n",
    "\n",
    "# Create the plot\n",
    "fig, ax = plt.subplots(figsize=(10, 6))\n",
    "\n",
    "# Create bars for each subject\n",
    "for i, subject in enumerate(subjects):\n",
    "    # Extract the number of correct answers for the current subject from each question type\n",
    "    correct_answers = [correct_by_subject[qtype][i] for qtype in type_of_question]\n",
    "    ax.bar(index + i * bar_width, correct_answers, bar_width, label=subject)\n",
    "\n",
    "# Add labels, title, and legend\n",
    "ax.set_xlabel('Type of Question')\n",
    "ax.set_ylabel('Number of Questions Solved Correctly')\n",
    "ax.set_title('Correctly Solved Questions Per Type and Subject')\n",
    "ax.set_xticks(index + bar_width)\n",
    "ax.set_xticklabels(type_of_question)\n",
    "ax.set_ylim(0, 10)  \n",
    "ax.legend()\n",
    "\n",
    "# Show the plot\n",
    "plt.show()\n"
   ]
  },
  {
   "cell_type": "code",
   "execution_count": 9,
   "id": "23bd85d7-426c-4279-9aa1-e94951930506",
   "metadata": {},
   "outputs": [
    {
     "data": {
      "image/png": "[encoded data removed]",
      "text/plain": [
       "<Figure size 1000x600 with 1 Axes>"
      ]
     },
     "metadata": {},
     "output_type": "display_data"
    }
   ],
   "source": [
    "import matplotlib.pyplot as plt\n",
    "import numpy as np\n",
    "\n",
    "# Data setup\n",
    "type_of_question = ['Single Choice', 'Numerical', 'Multiple Choice']\n",
    "subjects = ['Physics', 'Chemistry', 'Maths']\n",
    "\n",
    "# Example data: lists represent the correct answers for Physics, Chemistry, Maths respectively\n",
    "# Update these with the actual number of questions solved correctly for each type and subject\n",
    "correct_by_subject = {\n",
    "    'Single Choice': [4, 3, 2],  # Example: 5 Physics, 7 Chemistry, 6 Maths\n",
    "    'Numerical': [2, 4, 1],      # Example: 3 Physics, 4 Chemistry, 3 Maths\n",
    "    'Multiple Choice': [1, 2, 0] # Example: 4 Physics, 5 Chemistry, 1 Maths\n",
    "}\n",
    "\n",
    "# Number of groups and subjects\n",
    "num_groups = len(type_of_question)\n",
    "num_subjects = len(subjects)\n",
    "\n",
    "# Creating position of the bars on the x-axis\n",
    "index = np.arange(num_groups)\n",
    "bar_width = 0.25\n",
    "\n",
    "# Create the plot\n",
    "fig, ax = plt.subplots(figsize=(10, 6))\n",
    "\n",
    "# Create bars for each subject\n",
    "for i, subject in enumerate(subjects):\n",
    "    # Extract the number of correct answers for the current subject from each question type\n",
    "    correct_answers = [correct_by_subject[qtype][i] for qtype in type_of_question]\n",
    "    ax.bar(index + i * bar_width, correct_answers, bar_width, label=subject)\n",
    "\n",
    "# Add labels, title, and legend\n",
    "ax.set_xlabel('Type of Question')\n",
    "ax.set_ylabel('Number of Questions Solved Correctly')\n",
    "ax.set_title('Correctly Solved Questions Per Type and Subject')\n",
    "ax.set_xticks(index + bar_width)\n",
    "ax.set_xticklabels(type_of_question)\n",
    "ax.set_ylim(0, 10)  # The maximum number of questions in any subcategory is 10\n",
    "ax.legend()\n",
    "\n",
    "# Show the plot\n",
    "plt.show()\n"
   ]
  },
  {
   "cell_type": "code",
   "execution_count": null,
   "id": "946d0fa7-1578-4007-bcaa-df046a33f36a",
   "metadata": {},
   "outputs": [],
   "source": []
  },
  {
   "cell_type": "code",
   "execution_count": 1,
   "id": "1e2b3955-c6e6-4a68-a790-be29cf07be70",
   "metadata": {},
   "outputs": [],
   "source": [
    "# from automatic_prompt_engineer import ape"
   ]
  },
  {
   "cell_type": "code",
   "execution_count": null,
   "id": "df55331f-2cdb-44df-af36-cbac7674fa77",
   "metadata": {},
   "outputs": [],
   "source": []
  },
  {
   "cell_type": "code",
   "execution_count": null,
   "id": "6c3ef4e2-f7c2-49b5-be23-26ef0d17624b",
   "metadata": {},
   "outputs": [],
   "source": []
  },
  {
   "cell_type": "code",
   "execution_count": null,
   "id": "ce59c431-fce3-4685-9a47-0d8bc8bda372",
   "metadata": {},
   "outputs": [],
   "source": []
  },
  {
   "cell_type": "code",
   "execution_count": null,
   "id": "3871f362-fd26-4c9d-8adb-2b8e9725de40",
   "metadata": {},
   "outputs": [],
   "source": []
  },
  {
   "cell_type": "code",
   "execution_count": null,
   "id": "de088850-5367-47c9-b547-b68158657dc2",
   "metadata": {},
   "outputs": [],
   "source": []
  }
 ],
 "metadata": {
  "kernelspec": {
   "display_name": "Python 3 (ipykernel)",
   "language": "python",
   "name": "python3"
  },
  "language_info": {
   "codemirror_mode": {
    "name": "ipython",
    "version": 3
   },
   "file_extension": ".py",
   "mimetype": "text/x-python",
   "name": "python",
   "nbconvert_exporter": "python",
   "pygments_lexer": "ipython3",
   "version": "3.11.5"
  }
 },
 "nbformat": 4,
 "nbformat_minor": 5
}
